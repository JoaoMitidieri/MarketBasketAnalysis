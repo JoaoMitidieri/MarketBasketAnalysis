{
 "cells": [
  {
   "cell_type": "markdown",
   "id": "d65075a6",
   "metadata": {},
   "source": [
    "# Market Basket Analysis\n",
    "\n",
    "Market Basket Analysis é uma das principais técnicas usadas por grandes varejistas para descobrir associações entre itens.\n",
    "\n",
    "A técnica funciona procurando combinações de itens que ocorrem juntos com frequência nas transações. Em outras palavras, permite que os varejistas identifiquem as relações entre os itens que as pessoas compram.\n"
   ]
  },
  {
   "cell_type": "code",
   "execution_count": 1,
   "id": "3f97577a",
   "metadata": {},
   "outputs": [],
   "source": [
    "!pip install -q efficient_apriori"
   ]
  },
  {
   "cell_type": "code",
   "execution_count": 2,
   "id": "ed858736",
   "metadata": {},
   "outputs": [],
   "source": [
    "# Importando os Pacotes\n",
    "import numpy as np\n",
    "import pandas as pd\n",
    "import matplotlib.pyplot as plt\n",
    "from datetime import datetime\n",
    "from itertools import combinations\n",
    "import efficient_apriori\n",
    "from efficient_apriori import apriori"
   ]
  },
  {
   "cell_type": "markdown",
   "id": "b322825a",
   "metadata": {},
   "source": [
    "## Carregando os dados"
   ]
  },
  {
   "cell_type": "code",
   "execution_count": 3,
   "id": "a670b465",
   "metadata": {},
   "outputs": [],
   "source": [
    "# Carrega os dados\n",
    "aisle = pd.read_csv('dados/aisles.csv')\n",
    "department = pd.read_csv('dados/departments.csv')\n",
    "order = pd.read_csv('dados/orders.csv')\n",
    "product = pd.read_csv('dados/products.csv')\n",
    "order_product_prior = pd.read_csv('dados/order_products__prior.csv')\n",
    "order_product_train = pd.read_csv('dados/order_products__train.csv')"
   ]
  },
  {
   "cell_type": "markdown",
   "id": "35392721",
   "metadata": {},
   "source": [
    "## Análise Exploratória"
   ]
  },
  {
   "cell_type": "code",
   "execution_count": 4,
   "id": "aeaadf4c",
   "metadata": {},
   "outputs": [
    {
     "data": {
      "text/html": [
       "<div>\n",
       "<style scoped>\n",
       "    .dataframe tbody tr th:only-of-type {\n",
       "        vertical-align: middle;\n",
       "    }\n",
       "\n",
       "    .dataframe tbody tr th {\n",
       "        vertical-align: top;\n",
       "    }\n",
       "\n",
       "    .dataframe thead th {\n",
       "        text-align: right;\n",
       "    }\n",
       "</style>\n",
       "<table border=\"1\" class=\"dataframe\">\n",
       "  <thead>\n",
       "    <tr style=\"text-align: right;\">\n",
       "      <th></th>\n",
       "      <th>Arquivo</th>\n",
       "      <th>Total_de_registros</th>\n",
       "    </tr>\n",
       "  </thead>\n",
       "  <tbody>\n",
       "    <tr>\n",
       "      <th>0</th>\n",
       "      <td>aisle</td>\n",
       "      <td>134</td>\n",
       "    </tr>\n",
       "    <tr>\n",
       "      <th>1</th>\n",
       "      <td>department</td>\n",
       "      <td>21</td>\n",
       "    </tr>\n",
       "    <tr>\n",
       "      <th>2</th>\n",
       "      <td>order</td>\n",
       "      <td>3421083</td>\n",
       "    </tr>\n",
       "    <tr>\n",
       "      <th>3</th>\n",
       "      <td>product</td>\n",
       "      <td>49688</td>\n",
       "    </tr>\n",
       "    <tr>\n",
       "      <th>4</th>\n",
       "      <td>order_product_prior</td>\n",
       "      <td>32434489</td>\n",
       "    </tr>\n",
       "    <tr>\n",
       "      <th>5</th>\n",
       "      <td>order_product_train</td>\n",
       "      <td>1384617</td>\n",
       "    </tr>\n",
       "  </tbody>\n",
       "</table>\n",
       "</div>"
      ],
      "text/plain": [
       "               Arquivo Total_de_registros\n",
       "0                aisle                134\n",
       "1           department                 21\n",
       "2                order            3421083\n",
       "3              product              49688\n",
       "4  order_product_prior           32434489\n",
       "5  order_product_train            1384617"
      ]
     },
     "execution_count": 4,
     "metadata": {},
     "output_type": "execute_result"
    }
   ],
   "source": [
    "# Total de registros por dataset\n",
    "registros = np.array([['aisle', len(aisle)],\n",
    "                     ['department', len(department)],\n",
    "                     ['order', len(order)],\n",
    "                     ['product', len(product)],\n",
    "                     ['order_product_prior', len(order_product_prior)],\n",
    "                     ['order_product_train', len(order_product_train)]])\n",
    "observacoes = pd.DataFrame(registros, columns = ['Arquivo', 'Total_de_registros'])\n",
    "observacoes"
   ]
  },
  {
   "cell_type": "code",
   "execution_count": 5,
   "id": "7ce5362d",
   "metadata": {},
   "outputs": [
    {
     "data": {
      "text/plain": [
       "prior    3214874\n",
       "train     131209\n",
       "test       75000\n",
       "Name: eval_set, dtype: int64"
      ]
     },
     "execution_count": 5,
     "metadata": {},
     "output_type": "execute_result"
    }
   ],
   "source": [
    "# Itens na categoria de eval_set\n",
    "order['eval_set'].value_counts()"
   ]
  },
  {
   "cell_type": "code",
   "execution_count": 6,
   "id": "771a58e3",
   "metadata": {},
   "outputs": [
    {
     "data": {
      "text/html": [
       "<div>\n",
       "<style scoped>\n",
       "    .dataframe tbody tr th:only-of-type {\n",
       "        vertical-align: middle;\n",
       "    }\n",
       "\n",
       "    .dataframe tbody tr th {\n",
       "        vertical-align: top;\n",
       "    }\n",
       "\n",
       "    .dataframe thead th {\n",
       "        text-align: right;\n",
       "    }\n",
       "</style>\n",
       "<table border=\"1\" class=\"dataframe\">\n",
       "  <thead>\n",
       "    <tr style=\"text-align: right;\">\n",
       "      <th></th>\n",
       "      <th>order_id</th>\n",
       "      <th>user_id</th>\n",
       "      <th>eval_set</th>\n",
       "      <th>order_number</th>\n",
       "      <th>order_dow</th>\n",
       "      <th>order_hour_of_day</th>\n",
       "      <th>days_since_prior_order</th>\n",
       "    </tr>\n",
       "  </thead>\n",
       "  <tbody>\n",
       "    <tr>\n",
       "      <th>0</th>\n",
       "      <td>2539329</td>\n",
       "      <td>1</td>\n",
       "      <td>prior</td>\n",
       "      <td>1</td>\n",
       "      <td>2</td>\n",
       "      <td>8</td>\n",
       "      <td>NaN</td>\n",
       "    </tr>\n",
       "    <tr>\n",
       "      <th>1</th>\n",
       "      <td>2398795</td>\n",
       "      <td>1</td>\n",
       "      <td>prior</td>\n",
       "      <td>2</td>\n",
       "      <td>3</td>\n",
       "      <td>7</td>\n",
       "      <td>15.0</td>\n",
       "    </tr>\n",
       "    <tr>\n",
       "      <th>2</th>\n",
       "      <td>473747</td>\n",
       "      <td>1</td>\n",
       "      <td>prior</td>\n",
       "      <td>3</td>\n",
       "      <td>3</td>\n",
       "      <td>12</td>\n",
       "      <td>21.0</td>\n",
       "    </tr>\n",
       "    <tr>\n",
       "      <th>3</th>\n",
       "      <td>2254736</td>\n",
       "      <td>1</td>\n",
       "      <td>prior</td>\n",
       "      <td>4</td>\n",
       "      <td>4</td>\n",
       "      <td>7</td>\n",
       "      <td>29.0</td>\n",
       "    </tr>\n",
       "    <tr>\n",
       "      <th>4</th>\n",
       "      <td>431534</td>\n",
       "      <td>1</td>\n",
       "      <td>prior</td>\n",
       "      <td>5</td>\n",
       "      <td>4</td>\n",
       "      <td>15</td>\n",
       "      <td>28.0</td>\n",
       "    </tr>\n",
       "  </tbody>\n",
       "</table>\n",
       "</div>"
      ],
      "text/plain": [
       "   order_id  user_id eval_set  order_number  order_dow  order_hour_of_day  \\\n",
       "0   2539329        1    prior             1          2                  8   \n",
       "1   2398795        1    prior             2          3                  7   \n",
       "2    473747        1    prior             3          3                 12   \n",
       "3   2254736        1    prior             4          4                  7   \n",
       "4    431534        1    prior             5          4                 15   \n",
       "\n",
       "   days_since_prior_order  \n",
       "0                     NaN  \n",
       "1                    15.0  \n",
       "2                    21.0  \n",
       "3                    29.0  \n",
       "4                    28.0  "
      ]
     },
     "execution_count": 6,
     "metadata": {},
     "output_type": "execute_result"
    }
   ],
   "source": [
    "order.head()"
   ]
  },
  {
   "cell_type": "markdown",
   "id": "94b51a98",
   "metadata": {},
   "source": [
    "## Limpeza dos Dados"
   ]
  },
  {
   "cell_type": "code",
   "execution_count": 7,
   "id": "be4b2b63",
   "metadata": {},
   "outputs": [
    {
     "name": "stdout",
     "output_type": "stream",
     "text": [
      "Valores ausentes no conjunto de dados aisle: aisle_id    0\n",
      "aisle       0\n",
      "dtype: int64\n",
      "Valores ausentes no conjunto de dados department: department_id    0\n",
      "department       0\n",
      "dtype: int64\n",
      "Valores ausentes no conjunto de dados order: order_id                       0\n",
      "user_id                        0\n",
      "eval_set                       0\n",
      "order_number                   0\n",
      "order_dow                      0\n",
      "order_hour_of_day              0\n",
      "days_since_prior_order    206209\n",
      "dtype: int64\n",
      "Valores ausentes no conjunto de dados product: product_id       0\n",
      "product_name     0\n",
      "aisle_id         0\n",
      "department_id    0\n",
      "dtype: int64\n",
      "Valores ausentes no conjunto de dados order_product_prior: order_id             0\n",
      "product_id           0\n",
      "add_to_cart_order    0\n",
      "reordered            0\n",
      "dtype: int64\n",
      "Valores ausentes no conjunto de dados order_product_train: order_id             0\n",
      "product_id           0\n",
      "add_to_cart_order    0\n",
      "reordered            0\n",
      "dtype: int64\n"
     ]
    }
   ],
   "source": [
    "print('Valores ausentes no conjunto de dados aisle:', aisle.isnull().sum())\n",
    "print('Valores ausentes no conjunto de dados department:', department.isnull().sum())\n",
    "print('Valores ausentes no conjunto de dados order:', order.isnull().sum())\n",
    "print('Valores ausentes no conjunto de dados product:', product.isnull().sum())\n",
    "print('Valores ausentes no conjunto de dados order_product_prior:', order_product_prior.isnull().sum())\n",
    "print('Valores ausentes no conjunto de dados order_product_train:', order_product_train.isnull().sum())"
   ]
  },
  {
   "cell_type": "markdown",
   "id": "a7615b59",
   "metadata": {},
   "source": [
    "## Feature Extraction"
   ]
  },
  {
   "cell_type": "markdown",
   "id": "cad2923d",
   "metadata": {},
   "source": [
    "### Merge da Tabela order_product_prior com order, product, aisle e department\n"
   ]
  },
  {
   "cell_type": "code",
   "execution_count": 8,
   "id": "dedfb6c6",
   "metadata": {},
   "outputs": [],
   "source": [
    "# Merge, igual fazer um join em SQL\n",
    "order_product_prior = order_product_prior.merge(order, on = 'order_id', how = 'left')\n",
    "order_product_prior = order_product_prior.merge(product, on = 'product_id', how = 'left')\n",
    "order_product_prior = order_product_prior.merge(aisle, on = 'aisle_id', how = 'left')\n",
    "order_product_prior = order_product_prior.merge(department, on = 'department_id', how = 'left')"
   ]
  },
  {
   "cell_type": "code",
   "execution_count": 9,
   "id": "c8853bf1",
   "metadata": {},
   "outputs": [
    {
     "data": {
      "text/html": [
       "<div>\n",
       "<style scoped>\n",
       "    .dataframe tbody tr th:only-of-type {\n",
       "        vertical-align: middle;\n",
       "    }\n",
       "\n",
       "    .dataframe tbody tr th {\n",
       "        vertical-align: top;\n",
       "    }\n",
       "\n",
       "    .dataframe thead th {\n",
       "        text-align: right;\n",
       "    }\n",
       "</style>\n",
       "<table border=\"1\" class=\"dataframe\">\n",
       "  <thead>\n",
       "    <tr style=\"text-align: right;\">\n",
       "      <th></th>\n",
       "      <th>order_id</th>\n",
       "      <th>product_id</th>\n",
       "      <th>add_to_cart_order</th>\n",
       "      <th>reordered</th>\n",
       "      <th>user_id</th>\n",
       "      <th>eval_set</th>\n",
       "      <th>order_number</th>\n",
       "      <th>order_dow</th>\n",
       "      <th>order_hour_of_day</th>\n",
       "      <th>days_since_prior_order</th>\n",
       "      <th>product_name</th>\n",
       "      <th>aisle_id</th>\n",
       "      <th>department_id</th>\n",
       "      <th>aisle</th>\n",
       "      <th>department</th>\n",
       "    </tr>\n",
       "  </thead>\n",
       "  <tbody>\n",
       "    <tr>\n",
       "      <th>0</th>\n",
       "      <td>2</td>\n",
       "      <td>33120</td>\n",
       "      <td>1</td>\n",
       "      <td>1</td>\n",
       "      <td>202279</td>\n",
       "      <td>prior</td>\n",
       "      <td>3</td>\n",
       "      <td>5</td>\n",
       "      <td>9</td>\n",
       "      <td>8.0</td>\n",
       "      <td>Organic Egg Whites</td>\n",
       "      <td>86</td>\n",
       "      <td>16</td>\n",
       "      <td>eggs</td>\n",
       "      <td>dairy eggs</td>\n",
       "    </tr>\n",
       "    <tr>\n",
       "      <th>1</th>\n",
       "      <td>2</td>\n",
       "      <td>28985</td>\n",
       "      <td>2</td>\n",
       "      <td>1</td>\n",
       "      <td>202279</td>\n",
       "      <td>prior</td>\n",
       "      <td>3</td>\n",
       "      <td>5</td>\n",
       "      <td>9</td>\n",
       "      <td>8.0</td>\n",
       "      <td>Michigan Organic Kale</td>\n",
       "      <td>83</td>\n",
       "      <td>4</td>\n",
       "      <td>fresh vegetables</td>\n",
       "      <td>produce</td>\n",
       "    </tr>\n",
       "    <tr>\n",
       "      <th>2</th>\n",
       "      <td>2</td>\n",
       "      <td>9327</td>\n",
       "      <td>3</td>\n",
       "      <td>0</td>\n",
       "      <td>202279</td>\n",
       "      <td>prior</td>\n",
       "      <td>3</td>\n",
       "      <td>5</td>\n",
       "      <td>9</td>\n",
       "      <td>8.0</td>\n",
       "      <td>Garlic Powder</td>\n",
       "      <td>104</td>\n",
       "      <td>13</td>\n",
       "      <td>spices seasonings</td>\n",
       "      <td>pantry</td>\n",
       "    </tr>\n",
       "    <tr>\n",
       "      <th>3</th>\n",
       "      <td>2</td>\n",
       "      <td>45918</td>\n",
       "      <td>4</td>\n",
       "      <td>1</td>\n",
       "      <td>202279</td>\n",
       "      <td>prior</td>\n",
       "      <td>3</td>\n",
       "      <td>5</td>\n",
       "      <td>9</td>\n",
       "      <td>8.0</td>\n",
       "      <td>Coconut Butter</td>\n",
       "      <td>19</td>\n",
       "      <td>13</td>\n",
       "      <td>oils vinegars</td>\n",
       "      <td>pantry</td>\n",
       "    </tr>\n",
       "    <tr>\n",
       "      <th>4</th>\n",
       "      <td>2</td>\n",
       "      <td>30035</td>\n",
       "      <td>5</td>\n",
       "      <td>0</td>\n",
       "      <td>202279</td>\n",
       "      <td>prior</td>\n",
       "      <td>3</td>\n",
       "      <td>5</td>\n",
       "      <td>9</td>\n",
       "      <td>8.0</td>\n",
       "      <td>Natural Sweetener</td>\n",
       "      <td>17</td>\n",
       "      <td>13</td>\n",
       "      <td>baking ingredients</td>\n",
       "      <td>pantry</td>\n",
       "    </tr>\n",
       "  </tbody>\n",
       "</table>\n",
       "</div>"
      ],
      "text/plain": [
       "   order_id  product_id  add_to_cart_order  reordered  user_id eval_set  \\\n",
       "0         2       33120                  1          1   202279    prior   \n",
       "1         2       28985                  2          1   202279    prior   \n",
       "2         2        9327                  3          0   202279    prior   \n",
       "3         2       45918                  4          1   202279    prior   \n",
       "4         2       30035                  5          0   202279    prior   \n",
       "\n",
       "   order_number  order_dow  order_hour_of_day  days_since_prior_order  \\\n",
       "0             3          5                  9                     8.0   \n",
       "1             3          5                  9                     8.0   \n",
       "2             3          5                  9                     8.0   \n",
       "3             3          5                  9                     8.0   \n",
       "4             3          5                  9                     8.0   \n",
       "\n",
       "            product_name  aisle_id  department_id               aisle  \\\n",
       "0     Organic Egg Whites        86             16                eggs   \n",
       "1  Michigan Organic Kale        83              4    fresh vegetables   \n",
       "2          Garlic Powder       104             13   spices seasonings   \n",
       "3         Coconut Butter        19             13       oils vinegars   \n",
       "4      Natural Sweetener        17             13  baking ingredients   \n",
       "\n",
       "   department  \n",
       "0  dairy eggs  \n",
       "1     produce  \n",
       "2      pantry  \n",
       "3      pantry  \n",
       "4      pantry  "
      ]
     },
     "execution_count": 9,
     "metadata": {},
     "output_type": "execute_result"
    }
   ],
   "source": [
    "order_product_prior.head()"
   ]
  },
  {
   "cell_type": "code",
   "execution_count": 10,
   "id": "a125b265",
   "metadata": {},
   "outputs": [
    {
     "data": {
      "text/plain": [
       "order_id                        0\n",
       "product_id                      0\n",
       "add_to_cart_order               0\n",
       "reordered                       0\n",
       "user_id                         0\n",
       "eval_set                        0\n",
       "order_number                    0\n",
       "order_dow                       0\n",
       "order_hour_of_day               0\n",
       "days_since_prior_order    2078068\n",
       "product_name                    0\n",
       "aisle_id                        0\n",
       "department_id                   0\n",
       "aisle                           0\n",
       "department                      0\n",
       "dtype: int64"
      ]
     },
     "execution_count": 10,
     "metadata": {},
     "output_type": "execute_result"
    }
   ],
   "source": [
    "# Análisando os valores ausentes depois da concatenação\n",
    "order_product_prior.isna().sum()"
   ]
  },
  {
   "cell_type": "code",
   "execution_count": 11,
   "id": "f1c80213",
   "metadata": {},
   "outputs": [
    {
     "data": {
      "text/plain": [
       "order_id                  0.00000\n",
       "product_id                0.00000\n",
       "add_to_cart_order         0.00000\n",
       "reordered                 0.00000\n",
       "user_id                   0.00000\n",
       "eval_set                  0.00000\n",
       "order_number              0.00000\n",
       "order_dow                 0.00000\n",
       "order_hour_of_day         0.00000\n",
       "days_since_prior_order    6.40697\n",
       "product_name              0.00000\n",
       "aisle_id                  0.00000\n",
       "department_id             0.00000\n",
       "aisle                     0.00000\n",
       "department                0.00000\n",
       "dtype: float64"
      ]
     },
     "execution_count": 11,
     "metadata": {},
     "output_type": "execute_result"
    }
   ],
   "source": [
    "# Percentual de valores ausentes \n",
    "order_product_prior.isna().sum() / len(order_product_prior) * 100"
   ]
  },
  {
   "cell_type": "markdown",
   "id": "0f5e5dd9",
   "metadata": {},
   "source": [
    "Vamos manter a variável days_since_prior_order por duas razões:\n",
    "\n",
    "1- O percentual de valores ausentes é apenas de 6.4%.\n",
    "\n",
    "2- Não usaremos a variável com o algoritmo MBA."
   ]
  },
  {
   "cell_type": "markdown",
   "id": "06b7cd72",
   "metadata": {},
   "source": [
    "### Merge da Tabela order_product_train com order, product, aisle e department"
   ]
  },
  {
   "cell_type": "code",
   "execution_count": 12,
   "id": "75d080a5",
   "metadata": {},
   "outputs": [],
   "source": [
    "# Merge, igual fazer um join em SQL\n",
    "order_product_train = order_product_train.merge(order, on = 'order_id', how = 'left')\n",
    "order_product_train = order_product_train.merge(product, on = 'product_id', how = 'left')\n",
    "order_product_train = order_product_train.merge(aisle, on = 'aisle_id', how = 'left')\n",
    "order_product_train = order_product_train.merge(department, on = 'department_id', how = 'left')"
   ]
  },
  {
   "cell_type": "code",
   "execution_count": 13,
   "id": "5052571c",
   "metadata": {},
   "outputs": [
    {
     "data": {
      "text/html": [
       "<div>\n",
       "<style scoped>\n",
       "    .dataframe tbody tr th:only-of-type {\n",
       "        vertical-align: middle;\n",
       "    }\n",
       "\n",
       "    .dataframe tbody tr th {\n",
       "        vertical-align: top;\n",
       "    }\n",
       "\n",
       "    .dataframe thead th {\n",
       "        text-align: right;\n",
       "    }\n",
       "</style>\n",
       "<table border=\"1\" class=\"dataframe\">\n",
       "  <thead>\n",
       "    <tr style=\"text-align: right;\">\n",
       "      <th></th>\n",
       "      <th>order_id</th>\n",
       "      <th>product_id</th>\n",
       "      <th>add_to_cart_order</th>\n",
       "      <th>reordered</th>\n",
       "      <th>user_id</th>\n",
       "      <th>eval_set</th>\n",
       "      <th>order_number</th>\n",
       "      <th>order_dow</th>\n",
       "      <th>order_hour_of_day</th>\n",
       "      <th>days_since_prior_order</th>\n",
       "      <th>product_name</th>\n",
       "      <th>aisle_id</th>\n",
       "      <th>department_id</th>\n",
       "      <th>aisle</th>\n",
       "      <th>department</th>\n",
       "    </tr>\n",
       "  </thead>\n",
       "  <tbody>\n",
       "    <tr>\n",
       "      <th>0</th>\n",
       "      <td>1</td>\n",
       "      <td>49302</td>\n",
       "      <td>1</td>\n",
       "      <td>1</td>\n",
       "      <td>112108</td>\n",
       "      <td>train</td>\n",
       "      <td>4</td>\n",
       "      <td>4</td>\n",
       "      <td>10</td>\n",
       "      <td>9.0</td>\n",
       "      <td>Bulgarian Yogurt</td>\n",
       "      <td>120</td>\n",
       "      <td>16</td>\n",
       "      <td>yogurt</td>\n",
       "      <td>dairy eggs</td>\n",
       "    </tr>\n",
       "    <tr>\n",
       "      <th>1</th>\n",
       "      <td>1</td>\n",
       "      <td>11109</td>\n",
       "      <td>2</td>\n",
       "      <td>1</td>\n",
       "      <td>112108</td>\n",
       "      <td>train</td>\n",
       "      <td>4</td>\n",
       "      <td>4</td>\n",
       "      <td>10</td>\n",
       "      <td>9.0</td>\n",
       "      <td>Organic 4% Milk Fat Whole Milk Cottage Cheese</td>\n",
       "      <td>108</td>\n",
       "      <td>16</td>\n",
       "      <td>other creams cheeses</td>\n",
       "      <td>dairy eggs</td>\n",
       "    </tr>\n",
       "    <tr>\n",
       "      <th>2</th>\n",
       "      <td>1</td>\n",
       "      <td>10246</td>\n",
       "      <td>3</td>\n",
       "      <td>0</td>\n",
       "      <td>112108</td>\n",
       "      <td>train</td>\n",
       "      <td>4</td>\n",
       "      <td>4</td>\n",
       "      <td>10</td>\n",
       "      <td>9.0</td>\n",
       "      <td>Organic Celery Hearts</td>\n",
       "      <td>83</td>\n",
       "      <td>4</td>\n",
       "      <td>fresh vegetables</td>\n",
       "      <td>produce</td>\n",
       "    </tr>\n",
       "    <tr>\n",
       "      <th>3</th>\n",
       "      <td>1</td>\n",
       "      <td>49683</td>\n",
       "      <td>4</td>\n",
       "      <td>0</td>\n",
       "      <td>112108</td>\n",
       "      <td>train</td>\n",
       "      <td>4</td>\n",
       "      <td>4</td>\n",
       "      <td>10</td>\n",
       "      <td>9.0</td>\n",
       "      <td>Cucumber Kirby</td>\n",
       "      <td>83</td>\n",
       "      <td>4</td>\n",
       "      <td>fresh vegetables</td>\n",
       "      <td>produce</td>\n",
       "    </tr>\n",
       "    <tr>\n",
       "      <th>4</th>\n",
       "      <td>1</td>\n",
       "      <td>43633</td>\n",
       "      <td>5</td>\n",
       "      <td>1</td>\n",
       "      <td>112108</td>\n",
       "      <td>train</td>\n",
       "      <td>4</td>\n",
       "      <td>4</td>\n",
       "      <td>10</td>\n",
       "      <td>9.0</td>\n",
       "      <td>Lightly Smoked Sardines in Olive Oil</td>\n",
       "      <td>95</td>\n",
       "      <td>15</td>\n",
       "      <td>canned meat seafood</td>\n",
       "      <td>canned goods</td>\n",
       "    </tr>\n",
       "    <tr>\n",
       "      <th>5</th>\n",
       "      <td>1</td>\n",
       "      <td>13176</td>\n",
       "      <td>6</td>\n",
       "      <td>0</td>\n",
       "      <td>112108</td>\n",
       "      <td>train</td>\n",
       "      <td>4</td>\n",
       "      <td>4</td>\n",
       "      <td>10</td>\n",
       "      <td>9.0</td>\n",
       "      <td>Bag of Organic Bananas</td>\n",
       "      <td>24</td>\n",
       "      <td>4</td>\n",
       "      <td>fresh fruits</td>\n",
       "      <td>produce</td>\n",
       "    </tr>\n",
       "    <tr>\n",
       "      <th>6</th>\n",
       "      <td>1</td>\n",
       "      <td>47209</td>\n",
       "      <td>7</td>\n",
       "      <td>0</td>\n",
       "      <td>112108</td>\n",
       "      <td>train</td>\n",
       "      <td>4</td>\n",
       "      <td>4</td>\n",
       "      <td>10</td>\n",
       "      <td>9.0</td>\n",
       "      <td>Organic Hass Avocado</td>\n",
       "      <td>24</td>\n",
       "      <td>4</td>\n",
       "      <td>fresh fruits</td>\n",
       "      <td>produce</td>\n",
       "    </tr>\n",
       "    <tr>\n",
       "      <th>7</th>\n",
       "      <td>1</td>\n",
       "      <td>22035</td>\n",
       "      <td>8</td>\n",
       "      <td>1</td>\n",
       "      <td>112108</td>\n",
       "      <td>train</td>\n",
       "      <td>4</td>\n",
       "      <td>4</td>\n",
       "      <td>10</td>\n",
       "      <td>9.0</td>\n",
       "      <td>Organic Whole String Cheese</td>\n",
       "      <td>21</td>\n",
       "      <td>16</td>\n",
       "      <td>packaged cheese</td>\n",
       "      <td>dairy eggs</td>\n",
       "    </tr>\n",
       "    <tr>\n",
       "      <th>8</th>\n",
       "      <td>36</td>\n",
       "      <td>39612</td>\n",
       "      <td>1</td>\n",
       "      <td>0</td>\n",
       "      <td>79431</td>\n",
       "      <td>train</td>\n",
       "      <td>23</td>\n",
       "      <td>6</td>\n",
       "      <td>18</td>\n",
       "      <td>30.0</td>\n",
       "      <td>Grated Pecorino Romano Cheese</td>\n",
       "      <td>2</td>\n",
       "      <td>16</td>\n",
       "      <td>specialty cheeses</td>\n",
       "      <td>dairy eggs</td>\n",
       "    </tr>\n",
       "    <tr>\n",
       "      <th>9</th>\n",
       "      <td>36</td>\n",
       "      <td>19660</td>\n",
       "      <td>2</td>\n",
       "      <td>1</td>\n",
       "      <td>79431</td>\n",
       "      <td>train</td>\n",
       "      <td>23</td>\n",
       "      <td>6</td>\n",
       "      <td>18</td>\n",
       "      <td>30.0</td>\n",
       "      <td>Spring Water</td>\n",
       "      <td>115</td>\n",
       "      <td>7</td>\n",
       "      <td>water seltzer sparkling water</td>\n",
       "      <td>beverages</td>\n",
       "    </tr>\n",
       "  </tbody>\n",
       "</table>\n",
       "</div>"
      ],
      "text/plain": [
       "   order_id  product_id  add_to_cart_order  reordered  user_id eval_set  \\\n",
       "0         1       49302                  1          1   112108    train   \n",
       "1         1       11109                  2          1   112108    train   \n",
       "2         1       10246                  3          0   112108    train   \n",
       "3         1       49683                  4          0   112108    train   \n",
       "4         1       43633                  5          1   112108    train   \n",
       "5         1       13176                  6          0   112108    train   \n",
       "6         1       47209                  7          0   112108    train   \n",
       "7         1       22035                  8          1   112108    train   \n",
       "8        36       39612                  1          0    79431    train   \n",
       "9        36       19660                  2          1    79431    train   \n",
       "\n",
       "   order_number  order_dow  order_hour_of_day  days_since_prior_order  \\\n",
       "0             4          4                 10                     9.0   \n",
       "1             4          4                 10                     9.0   \n",
       "2             4          4                 10                     9.0   \n",
       "3             4          4                 10                     9.0   \n",
       "4             4          4                 10                     9.0   \n",
       "5             4          4                 10                     9.0   \n",
       "6             4          4                 10                     9.0   \n",
       "7             4          4                 10                     9.0   \n",
       "8            23          6                 18                    30.0   \n",
       "9            23          6                 18                    30.0   \n",
       "\n",
       "                                    product_name  aisle_id  department_id  \\\n",
       "0                               Bulgarian Yogurt       120             16   \n",
       "1  Organic 4% Milk Fat Whole Milk Cottage Cheese       108             16   \n",
       "2                          Organic Celery Hearts        83              4   \n",
       "3                                 Cucumber Kirby        83              4   \n",
       "4           Lightly Smoked Sardines in Olive Oil        95             15   \n",
       "5                         Bag of Organic Bananas        24              4   \n",
       "6                           Organic Hass Avocado        24              4   \n",
       "7                    Organic Whole String Cheese        21             16   \n",
       "8                  Grated Pecorino Romano Cheese         2             16   \n",
       "9                                   Spring Water       115              7   \n",
       "\n",
       "                           aisle    department  \n",
       "0                         yogurt    dairy eggs  \n",
       "1           other creams cheeses    dairy eggs  \n",
       "2               fresh vegetables       produce  \n",
       "3               fresh vegetables       produce  \n",
       "4            canned meat seafood  canned goods  \n",
       "5                   fresh fruits       produce  \n",
       "6                   fresh fruits       produce  \n",
       "7                packaged cheese    dairy eggs  \n",
       "8              specialty cheeses    dairy eggs  \n",
       "9  water seltzer sparkling water     beverages  "
      ]
     },
     "execution_count": 13,
     "metadata": {},
     "output_type": "execute_result"
    }
   ],
   "source": [
    "order_product_train.head(10)"
   ]
  },
  {
   "cell_type": "code",
   "execution_count": 14,
   "id": "30367d53",
   "metadata": {},
   "outputs": [
    {
     "data": {
      "text/plain": [
       "order_id                  0\n",
       "product_id                0\n",
       "add_to_cart_order         0\n",
       "reordered                 0\n",
       "user_id                   0\n",
       "eval_set                  0\n",
       "order_number              0\n",
       "order_dow                 0\n",
       "order_hour_of_day         0\n",
       "days_since_prior_order    0\n",
       "product_name              0\n",
       "aisle_id                  0\n",
       "department_id             0\n",
       "aisle                     0\n",
       "department                0\n",
       "dtype: int64"
      ]
     },
     "execution_count": 14,
     "metadata": {},
     "output_type": "execute_result"
    }
   ],
   "source": [
    "order_product_train.isna().sum()"
   ]
  },
  {
   "cell_type": "markdown",
   "id": "2ac179bb",
   "metadata": {},
   "source": [
    "> Vamos agrupar os dados para aplicar o algoritmo Apriori e preparar o dataset com todas as transações"
   ]
  },
  {
   "cell_type": "code",
   "execution_count": 57,
   "id": "fa341e60",
   "metadata": {},
   "outputs": [],
   "source": [
    "# Agrupamento\n",
    "order_grouped = pd.DataFrame(order_product_prior.groupby('order_id')['product_id'])"
   ]
  },
  {
   "cell_type": "code",
   "execution_count": 58,
   "id": "940fd846",
   "metadata": {},
   "outputs": [
    {
     "data": {
      "text/plain": [
       "(3214874, 2)"
      ]
     },
     "execution_count": 58,
     "metadata": {},
     "output_type": "execute_result"
    }
   ],
   "source": [
    "order_grouped.shape"
   ]
  },
  {
   "cell_type": "code",
   "execution_count": 59,
   "id": "8cfb6da5",
   "metadata": {},
   "outputs": [
    {
     "data": {
      "text/plain": [
       "3214874"
      ]
     },
     "execution_count": 59,
     "metadata": {},
     "output_type": "execute_result"
    }
   ],
   "source": [
    "len(order_grouped[0])"
   ]
  },
  {
   "cell_type": "code",
   "execution_count": 60,
   "id": "8996694e",
   "metadata": {},
   "outputs": [
    {
     "data": {
      "text/html": [
       "<div>\n",
       "<style scoped>\n",
       "    .dataframe tbody tr th:only-of-type {\n",
       "        vertical-align: middle;\n",
       "    }\n",
       "\n",
       "    .dataframe tbody tr th {\n",
       "        vertical-align: top;\n",
       "    }\n",
       "\n",
       "    .dataframe thead th {\n",
       "        text-align: right;\n",
       "    }\n",
       "</style>\n",
       "<table border=\"1\" class=\"dataframe\">\n",
       "  <thead>\n",
       "    <tr style=\"text-align: right;\">\n",
       "      <th></th>\n",
       "      <th>0</th>\n",
       "      <th>1</th>\n",
       "    </tr>\n",
       "  </thead>\n",
       "  <tbody>\n",
       "    <tr>\n",
       "      <th>0</th>\n",
       "      <td>2</td>\n",
       "      <td>0    33120\n",
       "1    28985\n",
       "2     9327\n",
       "3    45918\n",
       "4 ...</td>\n",
       "    </tr>\n",
       "    <tr>\n",
       "      <th>1</th>\n",
       "      <td>3</td>\n",
       "      <td>9     33754\n",
       "10    24838\n",
       "11    17704\n",
       "12    2190...</td>\n",
       "    </tr>\n",
       "    <tr>\n",
       "      <th>2</th>\n",
       "      <td>4</td>\n",
       "      <td>17    46842\n",
       "18    26434\n",
       "19    39758\n",
       "20    2776...</td>\n",
       "    </tr>\n",
       "    <tr>\n",
       "      <th>3</th>\n",
       "      <td>5</td>\n",
       "      <td>30    13176\n",
       "31    15005\n",
       "32    47329\n",
       "33    2796...</td>\n",
       "    </tr>\n",
       "    <tr>\n",
       "      <th>4</th>\n",
       "      <td>6</td>\n",
       "      <td>56    40462\n",
       "57    15873\n",
       "58    41897\n",
       "Name: prod...</td>\n",
       "    </tr>\n",
       "  </tbody>\n",
       "</table>\n",
       "</div>"
      ],
      "text/plain": [
       "   0                                                  1\n",
       "0  2  0    33120\n",
       "1    28985\n",
       "2     9327\n",
       "3    45918\n",
       "4 ...\n",
       "1  3  9     33754\n",
       "10    24838\n",
       "11    17704\n",
       "12    2190...\n",
       "2  4  17    46842\n",
       "18    26434\n",
       "19    39758\n",
       "20    2776...\n",
       "3  5  30    13176\n",
       "31    15005\n",
       "32    47329\n",
       "33    2796...\n",
       "4  6  56    40462\n",
       "57    15873\n",
       "58    41897\n",
       "Name: prod..."
      ]
     },
     "execution_count": 60,
     "metadata": {},
     "output_type": "execute_result"
    }
   ],
   "source": [
    "order_grouped.head()"
   ]
  },
  {
   "cell_type": "code",
   "execution_count": 61,
   "id": "11acf7f2",
   "metadata": {},
   "outputs": [],
   "source": [
    "# Lista de Produtos \n",
    "produtos = []"
   ]
  },
  {
   "cell_type": "code",
   "execution_count": 62,
   "id": "693dd2de",
   "metadata": {},
   "outputs": [],
   "source": [
    "for i in range(len(order_grouped[0])):\n",
    "    produtos.append(list(order_grouped.iloc[i][1]))"
   ]
  },
  {
   "cell_type": "code",
   "execution_count": 63,
   "id": "50315441",
   "metadata": {},
   "outputs": [],
   "source": [
    "prod = produtos"
   ]
  },
  {
   "cell_type": "code",
   "execution_count": 64,
   "id": "7a7f4c1e",
   "metadata": {},
   "outputs": [],
   "source": [
    "order1 = order_grouped[0]"
   ]
  },
  {
   "cell_type": "code",
   "execution_count": 65,
   "id": "3d51b24d",
   "metadata": {},
   "outputs": [
    {
     "data": {
      "text/html": [
       "<div>\n",
       "<style scoped>\n",
       "    .dataframe tbody tr th:only-of-type {\n",
       "        vertical-align: middle;\n",
       "    }\n",
       "\n",
       "    .dataframe tbody tr th {\n",
       "        vertical-align: top;\n",
       "    }\n",
       "\n",
       "    .dataframe thead th {\n",
       "        text-align: right;\n",
       "    }\n",
       "</style>\n",
       "<table border=\"1\" class=\"dataframe\">\n",
       "  <thead>\n",
       "    <tr style=\"text-align: right;\">\n",
       "      <th></th>\n",
       "      <th>OlderID</th>\n",
       "      <th>Products</th>\n",
       "    </tr>\n",
       "  </thead>\n",
       "  <tbody>\n",
       "    <tr>\n",
       "      <th>0</th>\n",
       "      <td>2</td>\n",
       "      <td>[33120, 28985, 9327, 45918, 30035, 17794, 4014...</td>\n",
       "    </tr>\n",
       "    <tr>\n",
       "      <th>1</th>\n",
       "      <td>3</td>\n",
       "      <td>[33754, 24838, 17704, 21903, 17668, 46667, 174...</td>\n",
       "    </tr>\n",
       "    <tr>\n",
       "      <th>2</th>\n",
       "      <td>4</td>\n",
       "      <td>[46842, 26434, 39758, 27761, 10054, 21351, 225...</td>\n",
       "    </tr>\n",
       "    <tr>\n",
       "      <th>3</th>\n",
       "      <td>5</td>\n",
       "      <td>[13176, 15005, 47329, 27966, 23909, 48370, 132...</td>\n",
       "    </tr>\n",
       "    <tr>\n",
       "      <th>4</th>\n",
       "      <td>6</td>\n",
       "      <td>[40462, 15873, 41897]</td>\n",
       "    </tr>\n",
       "    <tr>\n",
       "      <th>5</th>\n",
       "      <td>7</td>\n",
       "      <td>[34050, 46802]</td>\n",
       "    </tr>\n",
       "    <tr>\n",
       "      <th>6</th>\n",
       "      <td>8</td>\n",
       "      <td>[23423]</td>\n",
       "    </tr>\n",
       "    <tr>\n",
       "      <th>7</th>\n",
       "      <td>9</td>\n",
       "      <td>[21405, 47890, 11182, 2014, 29193, 34203, 1499...</td>\n",
       "    </tr>\n",
       "    <tr>\n",
       "      <th>8</th>\n",
       "      <td>10</td>\n",
       "      <td>[24852, 4796, 31717, 47766, 4605, 1529, 21137,...</td>\n",
       "    </tr>\n",
       "    <tr>\n",
       "      <th>9</th>\n",
       "      <td>11</td>\n",
       "      <td>[30162, 27085, 5994, 1313, 31506]</td>\n",
       "    </tr>\n",
       "  </tbody>\n",
       "</table>\n",
       "</div>"
      ],
      "text/plain": [
       "   OlderID                                           Products\n",
       "0        2  [33120, 28985, 9327, 45918, 30035, 17794, 4014...\n",
       "1        3  [33754, 24838, 17704, 21903, 17668, 46667, 174...\n",
       "2        4  [46842, 26434, 39758, 27761, 10054, 21351, 225...\n",
       "3        5  [13176, 15005, 47329, 27966, 23909, 48370, 132...\n",
       "4        6                              [40462, 15873, 41897]\n",
       "5        7                                     [34050, 46802]\n",
       "6        8                                            [23423]\n",
       "7        9  [21405, 47890, 11182, 2014, 29193, 34203, 1499...\n",
       "8       10  [24852, 4796, 31717, 47766, 4605, 1529, 21137,...\n",
       "9       11                  [30162, 27085, 5994, 1313, 31506]"
      ]
     },
     "execution_count": 65,
     "metadata": {},
     "output_type": "execute_result"
    }
   ],
   "source": [
    "# Preparando o DataFrame e transactions para o apriori\n",
    "\n",
    "transactions = pd.DataFrame({'OlderID': order1, 'Products': prod})\n",
    "transactions.head(10)"
   ]
  },
  {
   "cell_type": "markdown",
   "id": "8e386f4f",
   "metadata": {},
   "source": [
    "## Análise Estatística Descritiva"
   ]
  },
  {
   "cell_type": "markdown",
   "id": "6b569ceb",
   "metadata": {},
   "source": [
    "1- Qual o Número de Pedidos Mais Frequente Entre os Usuários?"
   ]
  },
  {
   "cell_type": "code",
   "execution_count": 15,
   "id": "4200d3e0",
   "metadata": {},
   "outputs": [
    {
     "data": {
      "text/html": [
       "<div>\n",
       "<style scoped>\n",
       "    .dataframe tbody tr th:only-of-type {\n",
       "        vertical-align: middle;\n",
       "    }\n",
       "\n",
       "    .dataframe tbody tr th {\n",
       "        vertical-align: top;\n",
       "    }\n",
       "\n",
       "    .dataframe thead th {\n",
       "        text-align: right;\n",
       "    }\n",
       "</style>\n",
       "<table border=\"1\" class=\"dataframe\">\n",
       "  <thead>\n",
       "    <tr style=\"text-align: right;\">\n",
       "      <th></th>\n",
       "      <th>user_id</th>\n",
       "      <th>order_number</th>\n",
       "    </tr>\n",
       "  </thead>\n",
       "  <tbody>\n",
       "    <tr>\n",
       "      <th>0</th>\n",
       "      <td>1</td>\n",
       "      <td>11</td>\n",
       "    </tr>\n",
       "    <tr>\n",
       "      <th>1</th>\n",
       "      <td>2</td>\n",
       "      <td>15</td>\n",
       "    </tr>\n",
       "    <tr>\n",
       "      <th>2</th>\n",
       "      <td>3</td>\n",
       "      <td>13</td>\n",
       "    </tr>\n",
       "    <tr>\n",
       "      <th>3</th>\n",
       "      <td>4</td>\n",
       "      <td>6</td>\n",
       "    </tr>\n",
       "    <tr>\n",
       "      <th>4</th>\n",
       "      <td>5</td>\n",
       "      <td>5</td>\n",
       "    </tr>\n",
       "  </tbody>\n",
       "</table>\n",
       "</div>"
      ],
      "text/plain": [
       "   user_id  order_number\n",
       "0        1            11\n",
       "1        2            15\n",
       "2        3            13\n",
       "3        4             6\n",
       "4        5             5"
      ]
     },
     "execution_count": 15,
     "metadata": {},
     "output_type": "execute_result"
    }
   ],
   "source": [
    "# Agrupa os dados por usuário e número do pedido, agregando pelo maior valor\n",
    "ord_max_count = order.groupby('user_id')['order_number'].agg(np.max).reset_index()\n",
    "ord_max_count.head()"
   ]
  },
  {
   "cell_type": "code",
   "execution_count": 16,
   "id": "7c71b139",
   "metadata": {},
   "outputs": [
    {
     "data": {
      "text/plain": [
       "4     23986\n",
       "5     19590\n",
       "6     16165\n",
       "7     13850\n",
       "8     11700\n",
       "9     10190\n",
       "10     9032\n",
       "11     7815\n",
       "12     6952\n",
       "13     6236\n",
       "Name: order_number, dtype: int64"
      ]
     },
     "execution_count": 16,
     "metadata": {},
     "output_type": "execute_result"
    }
   ],
   "source": [
    "# Faz a contagem no número de pedidos:\n",
    "ord_max_count = ord_max_count.order_number.value_counts()\n",
    "ord_max_count.head(10)"
   ]
  },
  {
   "cell_type": "code",
   "execution_count": 17,
   "id": "8e8bfbc9",
   "metadata": {},
   "outputs": [
    {
     "data": {
      "image/png": "[encoded data removed]",
      "text/plain": [
       "<Figure size 1440x576 with 1 Axes>"
      ]
     },
     "metadata": {},
     "output_type": "display_data"
    }
   ],
   "source": [
    "# Preparando o Plot\n",
    "plt.style.use('ggplot')\n",
    "plt.figure(figsize = (20, 8))\n",
    "plt.bar(ord_max_count.index, ord_max_count.values, color = 'indigo', width = 0.6)\n",
    "plt.xticks(ord_max_count.index, rotation = 'vertical')\n",
    "plt.ylabel('Frequência', fontsize = 14, fontweight = 'bold')\n",
    "plt.xlabel('Número de pedidos mais frequentes entre os Usuários', fontsize = 14, fontweight = 'bold')\n",
    "plt.show()"
   ]
  },
  {
   "cell_type": "markdown",
   "id": "8a7bd64f",
   "metadata": {},
   "source": [
    "2- Qual Dia da Semana Tem o Maior Número de Pedidos?"
   ]
  },
  {
   "cell_type": "code",
   "execution_count": 18,
   "id": "aa12d3af",
   "metadata": {},
   "outputs": [],
   "source": [
    "# Frequências de pedidos por dia da semana (dow = day of the week)\n",
    "x = [0,1,2,3,4,5,6]\n",
    "y = [order[order['order_dow']==0].shape[0],\n",
    "     order[order['order_dow']==1].shape[0],\n",
    "     order[order['order_dow']==2].shape[0],\n",
    "     order[order['order_dow']==3].shape[0],\n",
    "     order[order['order_dow']==4].shape[0],\n",
    "     order[order['order_dow']==5].shape[0],\n",
    "     order[order['order_dow']==6].shape[0]]"
   ]
  },
  {
   "cell_type": "code",
   "execution_count": 19,
   "id": "dc42f2d6",
   "metadata": {},
   "outputs": [
    {
     "data": {
      "image/png": "[encoded data removed]",
      "text/plain": [
       "<Figure size 720x360 with 1 Axes>"
      ]
     },
     "metadata": {},
     "output_type": "display_data"
    }
   ],
   "source": [
    "# Plot\n",
    "plt.figure(figsize = (10,5))\n",
    "plt.bar(x,y, color = 'slateblue')\n",
    "plt.xlabel('Dia da Semana', fontsize = 14, fontweight = 'bold')\n",
    "plt.ylabel('Frequência', fontsize = 14, fontweight = 'bold')\n",
    "plt.xticks(x,['Domingo', 'Segunda', 'Terça', 'Quarta', 'Quinta', 'Sexta', 'Sábado'], rotation = 'vertical')\n",
    "plt.show()"
   ]
  },
  {
   "cell_type": "markdown",
   "id": "e6e0fdba",
   "metadata": {},
   "source": [
    "3- Qual Hora do Dia Tem o Maior Número de Pedidos?"
   ]
  },
  {
   "cell_type": "code",
   "execution_count": 55,
   "id": "e9f168aa",
   "metadata": {},
   "outputs": [],
   "source": [
    "# Frequências de pedidos pela hora do dia\n",
    "#x = [0,1,2,3,4,5,6,7,8,9,10,11,12,13,14,15,16,17,18,19,20,21,22,23]\n",
    "#y = [order[order['order_hour_of_day']==0].shape[0], order[order['order_hour_of_day']==1].shape[0], order[order['order_hour_of_day']==2].shape[0], order[order['order_hour_of_day']==3].shape[0], order[order['order_hour_of_day']==4].shape[0], order[order['order_hour_of_day']==5].shape[0], order[order['order_hour_of_day']==6].shape[0], order[order['order_hour_of_day']==7].shape[0], order[order['order_hour_of_day']==8].shape[0], order[order['order_hour_of_day']==9].shape[0], order[order['order_hour_of_day']==10].shape[0], order[order['order_hour_of_day']==11].shape[0], order[order['order_hour_of_day']==12].shape[0], order[order['order_hour_of_day']==13].shape[0], order[order['order_hour_of_day']==14].shape[0], order[order['order_hour_of_day']==15].shape[0], order[order['order_hour_of_day']==16].shape[0], order[order['order_hour_of_day']==17].shape[0], order[order['order_hour_of_day']==18].shape[0], order[order['order_hour_of_day']==19].shape[0] order[order['order_hour_of_day']==20].shape[0], order[order['order_hour_of_day']==21].shape[0], order[order['order_hour_of_day']==22].shape[0], order[order['order_hour_of_day']==23].shape[0]]\n",
    "# Código com for:\n",
    "x = list(range(24))\n",
    "y = []\n",
    "\n",
    "for hour in x:\n",
    "    y.append(order[order['order_hour_of_day'] == hour].shape[0])"
   ]
  },
  {
   "cell_type": "code",
   "execution_count": 56,
   "id": "06f66c2a",
   "metadata": {},
   "outputs": [
    {
     "data": {
      "image/png": "[encoded data removed]",
      "text/plain": [
       "<Figure size 1440x360 with 1 Axes>"
      ]
     },
     "metadata": {},
     "output_type": "display_data"
    }
   ],
   "source": [
    "# Plot\n",
    "plt.figure(figsize = (20,5))\n",
    "plt.bar(x,y,color = 'forestgreen')\n",
    "plt.xticks(np.arange(0,24,1))\n",
    "plt.xlabel('Hora do Dia', fontsize = 14, fontweight = 'bold')\n",
    "plt.ylabel('Frequência', fontsize = 14, fontweight = 'bold')\n",
    "plt.show()"
   ]
  },
  {
   "cell_type": "markdown",
   "id": "1a8373e0",
   "metadata": {},
   "source": [
    " 4- Qual Departamento Tem o Maior Número de Pedidos?"
   ]
  },
  {
   "cell_type": "code",
   "execution_count": 22,
   "id": "ae702dcb",
   "metadata": {},
   "outputs": [],
   "source": [
    "# Contagem de pedidos por departamento\n",
    "dept_cont = order_product_prior['department'].value_counts()"
   ]
  },
  {
   "cell_type": "code",
   "execution_count": 23,
   "id": "92ab2a8c",
   "metadata": {},
   "outputs": [
    {
     "data": {
      "image/png": "[encoded data removed]",
      "text/plain": [
       "<Figure size 1440x720 with 1 Axes>"
      ]
     },
     "metadata": {},
     "output_type": "display_data"
    }
   ],
   "source": [
    "# Plot\n",
    "fig = plt.figure(figsize = (20,10))\n",
    "dept_cont.plot(kind = \"bar\", color = 'maroon')\n",
    "plt.xticks(rotation = 90)\n",
    "plt.xlabel('Departmento', fontsize = 14, fontweight = 'bold')\n",
    "plt.ylabel('Frequência', fontsize = 14, fontweight = 'bold')\n",
    "plt.show()"
   ]
  },
  {
   "cell_type": "markdown",
   "id": "48e091b5",
   "metadata": {},
   "source": [
    "5- Quais os 20 Principais Corredores Por Frequência de Pedidos?"
   ]
  },
  {
   "cell_type": "code",
   "execution_count": 24,
   "id": "d7374054",
   "metadata": {},
   "outputs": [],
   "source": [
    "# Os 20 principais corredores e sua frequência de pedidos\n",
    "aisle_cnt = order_product_prior['aisle'].value_counts()"
   ]
  },
  {
   "cell_type": "code",
   "execution_count": 25,
   "id": "577a8250",
   "metadata": {},
   "outputs": [
    {
     "data": {
      "image/png": "[encoded data removed]",
      "text/plain": [
       "<Figure size 1440x720 with 1 Axes>"
      ]
     },
     "metadata": {},
     "output_type": "display_data"
    }
   ],
   "source": [
    "# Plot, aisle_cnt[0:20]- tecnica de fatiamento para pegar os 20 principais corredores.\n",
    "fig = plt.figure(figsize = (20,10))\n",
    "aisle_cnt[0:20].plot(kind = \"bar\", color = 'darkgoldenrod')\n",
    "plt.xticks(rotation = 90)\n",
    "plt.xlabel('Corredor', fontsize = 14, fontweight = 'bold')\n",
    "plt.ylabel('Frequência', fontsize = 14, fontweight = 'bold')\n",
    "plt.show()"
   ]
  },
  {
   "cell_type": "markdown",
   "id": "5383cfd0",
   "metadata": {},
   "source": [
    "6- Quais os 20 Principais Produtos Por Frequência de Pedidos?"
   ]
  },
  {
   "cell_type": "code",
   "execution_count": 26,
   "id": "27fe9855",
   "metadata": {},
   "outputs": [],
   "source": [
    "# Os 20 principais produtos por frequência de pedido\n",
    "prod_cnt = order_product_prior['product_name'].value_counts()"
   ]
  },
  {
   "cell_type": "code",
   "execution_count": 28,
   "id": "866870d8",
   "metadata": {},
   "outputs": [
    {
     "data": {
      "image/png": "[encoded data removed]",
      "text/plain": [
       "<Figure size 1440x720 with 1 Axes>"
      ]
     },
     "metadata": {},
     "output_type": "display_data"
    }
   ],
   "source": [
    "# Plot, prod_cnt[0:20]- tecnica de fatiamento para pegar os 20 principais produtos.\n",
    "fig = plt.figure(figsize = (20,10))\n",
    "prod_cnt[0:20].plot(kind = \"bar\", color = 'purple')\n",
    "plt.xticks(rotation = 90)\n",
    "plt.xlabel('Produto', fontsize = 14, fontweight = 'bold')\n",
    "plt.ylabel('Frequência', fontsize = 14, fontweight = 'bold')\n",
    "plt.show()"
   ]
  },
  {
   "cell_type": "markdown",
   "id": "785d6d38",
   "metadata": {},
   "source": [
    " 7- Análise de Novos Pedidos Semelhantes a Pedidos Anteriores (reorder)"
   ]
  },
  {
   "cell_type": "code",
   "execution_count": 34,
   "id": "14c84a02",
   "metadata": {},
   "outputs": [],
   "source": [
    "temp_df = order_product_prior.groupby('product_name')['reordered'].agg(['count', 'sum']).rename(columns={'count': 'total', 'sum':'reorders'})\n",
    "temp_df = temp_df.sort_values('total', ascending = False).reset_index()"
   ]
  },
  {
   "cell_type": "code",
   "execution_count": 35,
   "id": "102a8e13",
   "metadata": {},
   "outputs": [],
   "source": [
    "# Prepara as listas\n",
    "labels = list(temp_df.product_name[0:20])\n",
    "reorder = list(temp_df.reorders[0:20])\n",
    "total = list(temp_df.total[0:20])    "
   ]
  },
  {
   "cell_type": "code",
   "execution_count": 36,
   "id": "95a19966",
   "metadata": {},
   "outputs": [
    {
     "data": {
      "image/png": "[encoded data removed]",
      "text/plain": [
       "<Figure size 1440x720 with 1 Axes>"
      ]
     },
     "metadata": {},
     "output_type": "display_data"
    }
   ],
   "source": [
    "# Plot  \n",
    "width = 0.35 \n",
    "fig, ax = plt.subplots(figsize = (20,10))\n",
    "ax.bar(labels, reorder, width, label = 'Reorder', color = 'green')\n",
    "ax.bar(labels, total, width, bottom = reorder, label = 'Total', color = 'red')\n",
    "ax.set_ylabel('Total de Pedidos', fontsize = 14, fontweight = 'bold')\n",
    "ax.legend()\n",
    "ax.set_title(\"Produtos Mais Populares\")\n",
    "plt.xticks(rotation = 90)\n",
    "plt.show()"
   ]
  },
  {
   "cell_type": "markdown",
   "id": "88003821",
   "metadata": {},
   "source": [
    "7- Análise de Reorder Por Departamento ao Longo do Tempo"
   ]
  },
  {
   "cell_type": "code",
   "execution_count": 37,
   "id": "89c112a7",
   "metadata": {},
   "outputs": [
    {
     "data": {
      "text/html": [
       "<div>\n",
       "<style scoped>\n",
       "    .dataframe tbody tr th:only-of-type {\n",
       "        vertical-align: middle;\n",
       "    }\n",
       "\n",
       "    .dataframe tbody tr th {\n",
       "        vertical-align: top;\n",
       "    }\n",
       "\n",
       "    .dataframe thead th {\n",
       "        text-align: right;\n",
       "    }\n",
       "</style>\n",
       "<table border=\"1\" class=\"dataframe\">\n",
       "  <thead>\n",
       "    <tr style=\"text-align: right;\">\n",
       "      <th></th>\n",
       "      <th>department</th>\n",
       "      <th>reordered</th>\n",
       "    </tr>\n",
       "  </thead>\n",
       "  <tbody>\n",
       "    <tr>\n",
       "      <th>0</th>\n",
       "      <td>alcohol</td>\n",
       "      <td>0.569924</td>\n",
       "    </tr>\n",
       "    <tr>\n",
       "      <th>1</th>\n",
       "      <td>babies</td>\n",
       "      <td>0.578971</td>\n",
       "    </tr>\n",
       "    <tr>\n",
       "      <th>2</th>\n",
       "      <td>bakery</td>\n",
       "      <td>0.628141</td>\n",
       "    </tr>\n",
       "    <tr>\n",
       "      <th>3</th>\n",
       "      <td>beverages</td>\n",
       "      <td>0.653460</td>\n",
       "    </tr>\n",
       "    <tr>\n",
       "      <th>4</th>\n",
       "      <td>breakfast</td>\n",
       "      <td>0.560922</td>\n",
       "    </tr>\n",
       "  </tbody>\n",
       "</table>\n",
       "</div>"
      ],
      "text/plain": [
       "  department  reordered\n",
       "0    alcohol   0.569924\n",
       "1     babies   0.578971\n",
       "2     bakery   0.628141\n",
       "3  beverages   0.653460\n",
       "4  breakfast   0.560922"
      ]
     },
     "execution_count": 37,
     "metadata": {},
     "output_type": "execute_result"
    }
   ],
   "source": [
    "# Agrupando os dados por departamento e reorder\n",
    "grouped_df = order_product_prior.groupby([\"department\"])[\"reordered\"].aggregate(\"mean\").reset_index()\n",
    "grouped_df.head()"
   ]
  },
  {
   "cell_type": "code",
   "execution_count": 38,
   "id": "9aecb331",
   "metadata": {},
   "outputs": [
    {
     "data": {
      "image/png": "[encoded data removed]",
      "text/plain": [
       "<Figure size 864x576 with 1 Axes>"
      ]
     },
     "metadata": {},
     "output_type": "display_data"
    }
   ],
   "source": [
    "# Plot\n",
    "plt.figure(figsize = (12,8))\n",
    "plt.plot(list(grouped_df['department']), grouped_df['reordered'].values, alpha=0.8)\n",
    "plt.scatter(list(grouped_df['department']), grouped_df['reordered'].values)\n",
    "plt.ylabel('Taxa de Reorder', fontsize = 12)\n",
    "plt.xlabel('Departmento', fontsize = 12)\n",
    "plt.title(\"Departmento x Taxa de Reorder\", fontsize = 15)\n",
    "plt.xticks(rotation = 'vertical')\n",
    "plt.show()"
   ]
  },
  {
   "cell_type": "markdown",
   "id": "f7e1b027",
   "metadata": {},
   "source": [
    "8- Análise de Reorder e Pedidos"
   ]
  },
  {
   "cell_type": "code",
   "execution_count": 39,
   "id": "ef14c3b5",
   "metadata": {},
   "outputs": [],
   "source": [
    "temp_df = order_product_prior.groupby(\"department\")[\"reordered\"].agg(['count', 'sum']).rename(columns = {'count':'total','sum':'reorders'})\n",
    "temp_df = temp_df.sort_values('total', ascending = False).reset_index()"
   ]
  },
  {
   "cell_type": "code",
   "execution_count": 40,
   "id": "bd02d3c5",
   "metadata": {},
   "outputs": [],
   "source": [
    "# Listas\n",
    "labels = list(temp_df.department[0:20])\n",
    "reorder = list(temp_df.reorders[0:20])\n",
    "total = list(temp_df.total[0:20])"
   ]
  },
  {
   "cell_type": "code",
   "execution_count": 41,
   "id": "e945729a",
   "metadata": {},
   "outputs": [
    {
     "data": {
      "image/png": "[encoded data removed]",
      "text/plain": [
       "<Figure size 1440x720 with 1 Axes>"
      ]
     },
     "metadata": {},
     "output_type": "display_data"
    }
   ],
   "source": [
    "# Plot\n",
    "width = 0.35  \n",
    "fig, ax = plt.subplots(figsize = (20,10))\n",
    "ax.bar(labels, reorder, width, label = 'Reorder', color = 'magenta')\n",
    "ax.bar(labels, total, width, bottom = reorder, label = 'Pedidos', color = 'blue')\n",
    "ax.set_ylabel('Total de Pedidos', fontsize = 14, fontweight = 'bold')\n",
    "ax.legend()\n",
    "ax.set_title(\"Total de Pedidos e Reorders dos Departmentos\")\n",
    "plt.xticks(rotation = 90)\n",
    "plt.show()"
   ]
  },
  {
   "cell_type": "markdown",
   "id": "ab58258c",
   "metadata": {},
   "source": [
    "- Pessoas tendêm a repedir o padrão! Nesse caso de compras."
   ]
  },
  {
   "cell_type": "markdown",
   "id": "1ec65762",
   "metadata": {},
   "source": [
    "9- Análise de Reorder Por Corredor"
   ]
  },
  {
   "cell_type": "code",
   "execution_count": 42,
   "id": "8be33390",
   "metadata": {},
   "outputs": [
    {
     "data": {
      "text/html": [
       "<div>\n",
       "<style scoped>\n",
       "    .dataframe tbody tr th:only-of-type {\n",
       "        vertical-align: middle;\n",
       "    }\n",
       "\n",
       "    .dataframe tbody tr th {\n",
       "        vertical-align: top;\n",
       "    }\n",
       "\n",
       "    .dataframe thead th {\n",
       "        text-align: right;\n",
       "    }\n",
       "</style>\n",
       "<table border=\"1\" class=\"dataframe\">\n",
       "  <thead>\n",
       "    <tr style=\"text-align: right;\">\n",
       "      <th></th>\n",
       "      <th>aisle</th>\n",
       "      <th>reordered</th>\n",
       "    </tr>\n",
       "  </thead>\n",
       "  <tbody>\n",
       "    <tr>\n",
       "      <th>0</th>\n",
       "      <td>air fresheners candles</td>\n",
       "      <td>0.309052</td>\n",
       "    </tr>\n",
       "    <tr>\n",
       "      <th>1</th>\n",
       "      <td>asian foods</td>\n",
       "      <td>0.351132</td>\n",
       "    </tr>\n",
       "    <tr>\n",
       "      <th>2</th>\n",
       "      <td>baby accessories</td>\n",
       "      <td>0.550980</td>\n",
       "    </tr>\n",
       "    <tr>\n",
       "      <th>3</th>\n",
       "      <td>baby bath body care</td>\n",
       "      <td>0.295770</td>\n",
       "    </tr>\n",
       "    <tr>\n",
       "      <th>4</th>\n",
       "      <td>baby food formula</td>\n",
       "      <td>0.590259</td>\n",
       "    </tr>\n",
       "  </tbody>\n",
       "</table>\n",
       "</div>"
      ],
      "text/plain": [
       "                    aisle  reordered\n",
       "0  air fresheners candles   0.309052\n",
       "1             asian foods   0.351132\n",
       "2        baby accessories   0.550980\n",
       "3     baby bath body care   0.295770\n",
       "4       baby food formula   0.590259"
      ]
     },
     "execution_count": 42,
     "metadata": {},
     "output_type": "execute_result"
    }
   ],
   "source": [
    "grouped_df = order_product_prior.groupby([\"aisle\"])[\"reordered\"].aggregate(\"mean\").reset_index()\n",
    "grouped_df.head()"
   ]
  },
  {
   "cell_type": "code",
   "execution_count": 43,
   "id": "566c7ee5",
   "metadata": {},
   "outputs": [
    {
     "data": {
      "text/plain": [
       "['air fresheners candles',\n",
       " 'asian foods',\n",
       " 'baby accessories',\n",
       " 'baby bath body care',\n",
       " 'baby food formula',\n",
       " 'bakery desserts',\n",
       " 'baking ingredients',\n",
       " 'baking supplies decor',\n",
       " 'beauty',\n",
       " 'beers coolers',\n",
       " 'body lotions soap',\n",
       " 'bread',\n",
       " 'breakfast bakery',\n",
       " 'breakfast bars pastries',\n",
       " 'bulk dried fruits vegetables',\n",
       " 'bulk grains rice dried goods',\n",
       " 'buns rolls',\n",
       " 'butter',\n",
       " 'candy chocolate',\n",
       " 'canned fruit applesauce']"
      ]
     },
     "execution_count": 43,
     "metadata": {},
     "output_type": "execute_result"
    }
   ],
   "source": [
    "list(grouped_df['aisle'])[0:20]"
   ]
  },
  {
   "cell_type": "code",
   "execution_count": 44,
   "id": "d6deceeb",
   "metadata": {},
   "outputs": [
    {
     "data": {
      "image/png": "[encoded data removed]",
      "text/plain": [
       "<Figure size 1008x504 with 1 Axes>"
      ]
     },
     "metadata": {},
     "output_type": "display_data"
    }
   ],
   "source": [
    "# Corredor x Taxa de Reorder\n",
    "plt.figure(figsize=(14,7))\n",
    "plt.plot(list(grouped_df['aisle'])[0:20], grouped_df['reordered'].values[0:20], alpha=0.8)\n",
    "plt.scatter(list(grouped_df['aisle'])[0:20], grouped_df['reordered'].values[0:20])\n",
    "plt.ylabel('Taxa de Reorder', fontsize=12)\n",
    "plt.xlabel('Corredor', fontsize=12)\n",
    "plt.title(\"Corredor x Taxa de Reorder\", fontsize = 15)\n",
    "plt.xticks(rotation = 'vertical')\n",
    "plt.show()"
   ]
  },
  {
   "cell_type": "markdown",
   "id": "8c1b2d0f",
   "metadata": {},
   "source": [
    "10- Análise de Reorder Por Corredor (Total)"
   ]
  },
  {
   "cell_type": "code",
   "execution_count": 45,
   "id": "8dd946c4",
   "metadata": {},
   "outputs": [],
   "source": [
    "temp_df = order_product_prior.groupby(\"aisle\")[\"reordered\"].agg(['count', 'sum']).rename(columns = {'count':'total','sum':'reorders'})\n",
    "temp_df = temp_df.sort_values('total', ascending = False).reset_index()"
   ]
  },
  {
   "cell_type": "code",
   "execution_count": 46,
   "id": "de4c268b",
   "metadata": {},
   "outputs": [
    {
     "data": {
      "text/html": [
       "<div>\n",
       "<style scoped>\n",
       "    .dataframe tbody tr th:only-of-type {\n",
       "        vertical-align: middle;\n",
       "    }\n",
       "\n",
       "    .dataframe tbody tr th {\n",
       "        vertical-align: top;\n",
       "    }\n",
       "\n",
       "    .dataframe thead th {\n",
       "        text-align: right;\n",
       "    }\n",
       "</style>\n",
       "<table border=\"1\" class=\"dataframe\">\n",
       "  <thead>\n",
       "    <tr style=\"text-align: right;\">\n",
       "      <th></th>\n",
       "      <th>aisle</th>\n",
       "      <th>total</th>\n",
       "      <th>reorders</th>\n",
       "    </tr>\n",
       "  </thead>\n",
       "  <tbody>\n",
       "    <tr>\n",
       "      <th>0</th>\n",
       "      <td>fresh fruits</td>\n",
       "      <td>3642188</td>\n",
       "      <td>2615469</td>\n",
       "    </tr>\n",
       "    <tr>\n",
       "      <th>1</th>\n",
       "      <td>fresh vegetables</td>\n",
       "      <td>3418021</td>\n",
       "      <td>2032172</td>\n",
       "    </tr>\n",
       "    <tr>\n",
       "      <th>2</th>\n",
       "      <td>packaged vegetables fruits</td>\n",
       "      <td>1765313</td>\n",
       "      <td>1127177</td>\n",
       "    </tr>\n",
       "    <tr>\n",
       "      <th>3</th>\n",
       "      <td>yogurt</td>\n",
       "      <td>1452343</td>\n",
       "      <td>997018</td>\n",
       "    </tr>\n",
       "    <tr>\n",
       "      <th>4</th>\n",
       "      <td>packaged cheese</td>\n",
       "      <td>979763</td>\n",
       "      <td>573383</td>\n",
       "    </tr>\n",
       "  </tbody>\n",
       "</table>\n",
       "</div>"
      ],
      "text/plain": [
       "                        aisle    total  reorders\n",
       "0                fresh fruits  3642188   2615469\n",
       "1            fresh vegetables  3418021   2032172\n",
       "2  packaged vegetables fruits  1765313   1127177\n",
       "3                      yogurt  1452343    997018\n",
       "4             packaged cheese   979763    573383"
      ]
     },
     "execution_count": 46,
     "metadata": {},
     "output_type": "execute_result"
    }
   ],
   "source": [
    "temp_df.head()"
   ]
  },
  {
   "cell_type": "code",
   "execution_count": 47,
   "id": "74c4b801",
   "metadata": {},
   "outputs": [],
   "source": [
    "# Listas\n",
    "labels = list(temp_df.aisle[0:20])\n",
    "reorder = list(temp_df.reorders[0:20])\n",
    "total = list(temp_df.total[0:20])"
   ]
  },
  {
   "cell_type": "code",
   "execution_count": 48,
   "id": "9c951c0d",
   "metadata": {},
   "outputs": [
    {
     "data": {
      "image/png": "[encoded data removed]",
      "text/plain": [
       "<Figure size 1440x720 with 1 Axes>"
      ]
     },
     "metadata": {},
     "output_type": "display_data"
    }
   ],
   "source": [
    "# Plot\n",
    "width = 0.35      \n",
    "fig, ax = plt.subplots(figsize = (20,10))\n",
    "ax.bar(labels, reorder, width, label = 'Reorder', color = 'green')\n",
    "ax.bar(labels, total, width, bottom = reorder, label = 'Total', color = 'red')\n",
    "ax.set_ylabel('Total de Pedidos', fontsize = 14, fontweight = 'bold')\n",
    "ax.legend()\n",
    "ax.set_title(\"Total de Pedidos e Reorders dos Corredores\")\n",
    "plt.xticks(rotation = 90)\n",
    "plt.show()"
   ]
  },
  {
   "cell_type": "markdown",
   "id": "782600e3",
   "metadata": {},
   "source": [
    "* Observado que claramente há um padrão de compra dos usuários."
   ]
  },
  {
   "cell_type": "markdown",
   "id": "41a3e9c0",
   "metadata": {},
   "source": [
    "11 - Verificando a relação entre como a ordem de adição do produto ao carrinho afeta a proporção de novos pedidos"
   ]
  },
  {
   "cell_type": "code",
   "execution_count": 51,
   "id": "34b3db13",
   "metadata": {},
   "outputs": [
    {
     "name": "stderr",
     "output_type": "stream",
     "text": [
      "C:\\Users\\joaoe\\AppData\\Local\\Temp\\ipykernel_12876\\84629546.py:2: SettingWithCopyWarning: \n",
      "A value is trying to be set on a copy of a slice from a DataFrame\n",
      "\n",
      "See the caveats in the documentation: https://pandas.pydata.org/pandas-docs/stable/user_guide/indexing.html#returning-a-view-versus-a-copy\n",
      "  order_product_prior[\"add_to_cart_order_mod\"].loc[order_product_prior[\"add_to_cart_order_mod\"] > 70] = 70\n"
     ]
    }
   ],
   "source": [
    "order_product_prior[\"add_to_cart_order_mod\"] = order_product_prior[\"add_to_cart_order\"].copy()\n",
    "order_product_prior[\"add_to_cart_order_mod\"].loc[order_product_prior[\"add_to_cart_order_mod\"] > 70] = 70\n",
    "grouped_df = order_product_prior.groupby([\"add_to_cart_order_mod\"])[\"reordered\"].aggregate(\"mean\").reset_index()"
   ]
  },
  {
   "cell_type": "code",
   "execution_count": 54,
   "id": "3c574c9a",
   "metadata": {},
   "outputs": [
    {
     "data": {
      "text/html": [
       "<div>\n",
       "<style scoped>\n",
       "    .dataframe tbody tr th:only-of-type {\n",
       "        vertical-align: middle;\n",
       "    }\n",
       "\n",
       "    .dataframe tbody tr th {\n",
       "        vertical-align: top;\n",
       "    }\n",
       "\n",
       "    .dataframe thead th {\n",
       "        text-align: right;\n",
       "    }\n",
       "</style>\n",
       "<table border=\"1\" class=\"dataframe\">\n",
       "  <thead>\n",
       "    <tr style=\"text-align: right;\">\n",
       "      <th></th>\n",
       "      <th>add_to_cart_order_mod</th>\n",
       "      <th>reordered</th>\n",
       "    </tr>\n",
       "  </thead>\n",
       "  <tbody>\n",
       "    <tr>\n",
       "      <th>0</th>\n",
       "      <td>1</td>\n",
       "      <td>0.677533</td>\n",
       "    </tr>\n",
       "    <tr>\n",
       "      <th>1</th>\n",
       "      <td>2</td>\n",
       "      <td>0.676251</td>\n",
       "    </tr>\n",
       "    <tr>\n",
       "      <th>2</th>\n",
       "      <td>3</td>\n",
       "      <td>0.658037</td>\n",
       "    </tr>\n",
       "    <tr>\n",
       "      <th>3</th>\n",
       "      <td>4</td>\n",
       "      <td>0.636958</td>\n",
       "    </tr>\n",
       "    <tr>\n",
       "      <th>4</th>\n",
       "      <td>5</td>\n",
       "      <td>0.617383</td>\n",
       "    </tr>\n",
       "    <tr>\n",
       "      <th>5</th>\n",
       "      <td>6</td>\n",
       "      <td>0.600420</td>\n",
       "    </tr>\n",
       "    <tr>\n",
       "      <th>6</th>\n",
       "      <td>7</td>\n",
       "      <td>0.585687</td>\n",
       "    </tr>\n",
       "    <tr>\n",
       "      <th>7</th>\n",
       "      <td>8</td>\n",
       "      <td>0.573247</td>\n",
       "    </tr>\n",
       "    <tr>\n",
       "      <th>8</th>\n",
       "      <td>9</td>\n",
       "      <td>0.561474</td>\n",
       "    </tr>\n",
       "    <tr>\n",
       "      <th>9</th>\n",
       "      <td>10</td>\n",
       "      <td>0.551018</td>\n",
       "    </tr>\n",
       "  </tbody>\n",
       "</table>\n",
       "</div>"
      ],
      "text/plain": [
       "   add_to_cart_order_mod  reordered\n",
       "0                      1   0.677533\n",
       "1                      2   0.676251\n",
       "2                      3   0.658037\n",
       "3                      4   0.636958\n",
       "4                      5   0.617383\n",
       "5                      6   0.600420\n",
       "6                      7   0.585687\n",
       "7                      8   0.573247\n",
       "8                      9   0.561474\n",
       "9                     10   0.551018"
      ]
     },
     "execution_count": 54,
     "metadata": {},
     "output_type": "execute_result"
    }
   ],
   "source": [
    "grouped_df.head(10)"
   ]
  },
  {
   "cell_type": "markdown",
   "id": "1293cbbd",
   "metadata": {},
   "source": [
    "## Algoritmo Apriori"
   ]
  },
  {
   "cell_type": "code",
   "execution_count": 66,
   "id": "3d29f9ab",
   "metadata": {},
   "outputs": [],
   "source": [
    "# Prepara a tupla com as transações\n",
    "transactions_tup = []\n",
    "products_list = transactions['Products'].tolist()\n",
    "\n",
    "for row in products_list:\n",
    "    transactions_tup.append(tuple(row))"
   ]
  },
  {
   "cell_type": "markdown",
   "id": "f43bad5c",
   "metadata": {},
   "source": [
    "### Executa o Algoritmo Apriori Com Support = 0.01 e Confidence = 0.2"
   ]
  },
  {
   "cell_type": "code",
   "execution_count": 67,
   "id": "00e79e26",
   "metadata": {},
   "outputs": [],
   "source": [
    "itemsets_ap, rules_ap = apriori(transactions_tup[:500000], min_support = 0.01, min_confidence = 0.2)"
   ]
  },
  {
   "cell_type": "code",
   "execution_count": 68,
   "id": "b68f0f9d",
   "metadata": {},
   "outputs": [
    {
     "data": {
      "text/plain": [
       "[{21137} -> {13176},\n",
       " {21903} -> {13176},\n",
       " {27966} -> {13176},\n",
       " {47209} -> {13176},\n",
       " {16797} -> {24852},\n",
       " {21137} -> {24852},\n",
       " {27966} -> {21137},\n",
       " {21903} -> {24852},\n",
       " {28204} -> {24852},\n",
       " {47626} -> {24852},\n",
       " {47766} -> {24852},\n",
       " {49683} -> {24852}]"
      ]
     },
     "execution_count": 68,
     "metadata": {},
     "output_type": "execute_result"
    }
   ],
   "source": [
    "rules_ap"
   ]
  },
  {
   "cell_type": "code",
   "execution_count": 69,
   "id": "8b90e26c",
   "metadata": {},
   "outputs": [
    {
     "data": {
      "text/plain": [
       "{1: {(28985,): 10521,\n",
       "  (17794,): 11438,\n",
       "  (24838,): 7699,\n",
       "  (21903,): 37500,\n",
       "  (46667,): 8174,\n",
       "  (13176,): 58901,\n",
       "  (27966,): 21167,\n",
       "  (23909,): 5828,\n",
       "  (47209,): 33109,\n",
       "  (31506,): 7734,\n",
       "  (24852,): 73597,\n",
       "  (31717,): 10667,\n",
       "  (47766,): 27282,\n",
       "  (4605,): 11407,\n",
       "  (21137,): 41275,\n",
       "  (27156,): 5997,\n",
       "  (49235,): 12008,\n",
       "  (196,): 5636,\n",
       "  (33198,): 6587,\n",
       "  (27845,): 21360,\n",
       "  (20995,): 5209,\n",
       "  (45066,): 12387,\n",
       "  (19660,): 8799,\n",
       "  (34969,): 8271,\n",
       "  (44632,): 11876,\n",
       "  (46979,): 10362,\n",
       "  (42265,): 11936,\n",
       "  (8518,): 10369,\n",
       "  (35951,): 8955,\n",
       "  (25890,): 7782,\n",
       "  (21938,): 8432,\n",
       "  (40604,): 5023,\n",
       "  (41950,): 10020,\n",
       "  (22825,): 7716,\n",
       "  (47626,): 23859,\n",
       "  (43352,): 9010,\n",
       "  (22935,): 17653,\n",
       "  (4920,): 13027,\n",
       "  (49683,): 15109,\n",
       "  (28199,): 6252,\n",
       "  (48679,): 7953,\n",
       "  (28204,): 13971,\n",
       "  (27344,): 6499,\n",
       "  (33000,): 5274,\n",
       "  (5077,): 9546,\n",
       "  (16797,): 22248,\n",
       "  (39275,): 15594,\n",
       "  (4799,): 5732,\n",
       "  (37646,): 11317,\n",
       "  (40706,): 13146,\n",
       "  (5876,): 13621,\n",
       "  (42736,): 5537,\n",
       "  (30391,): 12528,\n",
       "  (11520,): 6207,\n",
       "  (24964,): 17079,\n",
       "  (9076,): 8837,\n",
       "  (43122,): 5916,\n",
       "  (19057,): 11687,\n",
       "  (26604,): 9614,\n",
       "  (26209,): 21820,\n",
       "  (20114,): 6564,\n",
       "  (38689,): 5564,\n",
       "  (9387,): 5610,\n",
       "  (12341,): 7866,\n",
       "  (21616,): 11137,\n",
       "  (24184,): 8615,\n",
       "  (8277,): 13275,\n",
       "  (15290,): 6064,\n",
       "  (4210,): 5624,\n",
       "  (39928,): 7772,\n",
       "  (28842,): 7072,\n",
       "  (43961,): 8567,\n",
       "  (29487,): 6155,\n",
       "  (35221,): 7274,\n",
       "  (22035,): 9269,\n",
       "  (27104,): 11156,\n",
       "  (47144,): 5538,\n",
       "  (44142,): 6758,\n",
       "  (9839,): 6027,\n",
       "  (30489,): 11101,\n",
       "  (44359,): 10473,\n",
       "  (34358,): 5698,\n",
       "  (34126,): 9302,\n",
       "  (45007,): 16286,\n",
       "  (18465,): 6196,\n",
       "  (19678,): 5049,\n",
       "  (33731,): 6966,\n",
       "  (8424,): 6516,\n",
       "  (10749,): 8999,\n",
       "  (39877,): 9064,\n",
       "  (27521,): 6702,\n",
       "  (7781,): 5160,\n",
       "  (3957,): 5826,\n",
       "  (8174,): 6652,\n",
       "  (5785,): 7362,\n",
       "  (41787,): 5634,\n",
       "  (5450,): 7449,\n",
       "  (21709,): 5171,\n",
       "  (27086,): 10576,\n",
       "  (30233,): 5059,\n",
       "  (46906,): 6069,\n",
       "  (41220,): 5492,\n",
       "  (16759,): 5498,\n",
       "  (37687,): 5029},\n",
       " 2: {(13176, 21137): 9561,\n",
       "  (13176, 21903): 7750,\n",
       "  (13176, 27966): 6214,\n",
       "  (13176, 47209): 9630,\n",
       "  (16797, 24852): 6451,\n",
       "  (21137, 21903): 5898,\n",
       "  (21137, 24852): 8798,\n",
       "  (21137, 27966): 5262,\n",
       "  (21137, 47209): 6341,\n",
       "  (21903, 24852): 8008,\n",
       "  (21903, 47209): 5350,\n",
       "  (24852, 28204): 5315,\n",
       "  (24852, 47626): 6346,\n",
       "  (24852, 47766): 8164,\n",
       "  (24852, 49683): 5012}}"
      ]
     },
     "execution_count": 69,
     "metadata": {},
     "output_type": "execute_result"
    }
   ],
   "source": [
    "itemsets_ap"
   ]
  },
  {
   "cell_type": "code",
   "execution_count": 71,
   "id": "78d6412f",
   "metadata": {},
   "outputs": [],
   "source": [
    "# Listas de itens para considerar\n",
    "item_A = [27966,47209,21137,47766,21903,49683,47626,28204,16797,21903,21137,27966]\n",
    "item_B = [13176,13176,24852,24852,24852,24852,24852,24852,24852,13176,13176,21137]\n",
    "temp = pd.DataFrame()\n",
    "temp['itemA'] = item_A\n",
    "temp['itemB'] = item_B"
   ]
  },
  {
   "cell_type": "code",
   "execution_count": 72,
   "id": "a6a6dd84",
   "metadata": {},
   "outputs": [],
   "source": [
    "#Listas para as métricas\n",
    "support_A = []\n",
    "support_B = []\n",
    "support_AB = []\n",
    "confidence_AB = []\n",
    "lift_AB = []"
   ]
  },
  {
   "cell_type": "code",
   "execution_count": 73,
   "id": "0a959011",
   "metadata": {},
   "outputs": [],
   "source": [
    "# Loop\n",
    "for i in range(len(temp)):\n",
    "    \n",
    "    # Calcula o support de A\n",
    "    support_A.append(itemsets_ap[1][tuple([temp['itemA'][i],])] / 500000)\n",
    "    \n",
    "    # Calcula o support de B\n",
    "    support_B.append(itemsets_ap[1][tuple([temp['itemB'][i],])] / 500000)\n",
    "    \n",
    "    # Calcula o support de A e B\n",
    "    if tuple([temp['itemA'][i],temp['itemB'][i]]) in itemsets_ap[2].keys():\n",
    "        support_AB.append(itemsets_ap[2][tuple([temp['itemA'][i],temp['itemB'][i]])] / 500000)\n",
    "    else:\n",
    "        support_AB.append(itemsets_ap[2][tuple([temp['itemB'][i],temp['itemA'][i]])] / 500000)\n",
    "    \n",
    "    # Calcula a confidence\n",
    "    confidence_AB.append(support_AB[i] / support_A[i])\n",
    "    \n",
    "    # Calcula o lift\n",
    "    lift_AB.append(support_AB[i] / (support_A[i] * support_B[i]))"
   ]
  },
  {
   "cell_type": "code",
   "execution_count": 74,
   "id": "552e2268",
   "metadata": {},
   "outputs": [],
   "source": [
    "# Dataframe com as regras de associação\n",
    "df_rules_ap = pd.DataFrame()\n",
    "df_rules_ap['product_id'] = item_A\n",
    "df_rules_ap = df_rules_ap.merge(product, on = 'product_id', how = 'left')\n",
    "df_rules_ap['Product_A'] = df_rules_ap['product_name']\n",
    "df_rules_ap = df_rules_ap.drop(columns = ['product_id','product_name','aisle_id','department_id'], axis = 1)\n",
    "df_rules_ap['product_id'] = item_B\n",
    "df_rules_ap = df_rules_ap.merge(product, on = 'product_id', how = 'left')\n",
    "df_rules_ap['Product_B'] = df_rules_ap['product_name']\n",
    "df_rules_ap = df_rules_ap.drop(columns = ['product_id','product_name','aisle_id','department_id'], axis = 1)\n",
    "df_rules_ap['Support_A'] = support_A\n",
    "df_rules_ap['Support_B'] = support_B\n",
    "df_rules_ap['Support_AB'] = support_AB\n",
    "df_rules_ap['Confidence_AB'] = confidence_AB\n",
    "df_rules_ap['Lift_AB'] = lift_AB"
   ]
  },
  {
   "cell_type": "code",
   "execution_count": 75,
   "id": "8a94b1da",
   "metadata": {},
   "outputs": [
    {
     "data": {
      "text/html": [
       "<div>\n",
       "<style scoped>\n",
       "    .dataframe tbody tr th:only-of-type {\n",
       "        vertical-align: middle;\n",
       "    }\n",
       "\n",
       "    .dataframe tbody tr th {\n",
       "        vertical-align: top;\n",
       "    }\n",
       "\n",
       "    .dataframe thead th {\n",
       "        text-align: right;\n",
       "    }\n",
       "</style>\n",
       "<table border=\"1\" class=\"dataframe\">\n",
       "  <thead>\n",
       "    <tr style=\"text-align: right;\">\n",
       "      <th></th>\n",
       "      <th>Product_A</th>\n",
       "      <th>Product_B</th>\n",
       "      <th>Support_A</th>\n",
       "      <th>Support_B</th>\n",
       "      <th>Support_AB</th>\n",
       "      <th>Confidence_AB</th>\n",
       "      <th>Lift_AB</th>\n",
       "    </tr>\n",
       "  </thead>\n",
       "  <tbody>\n",
       "    <tr>\n",
       "      <th>7</th>\n",
       "      <td>Organic Fuji Apple</td>\n",
       "      <td>Banana</td>\n",
       "      <td>0.027942</td>\n",
       "      <td>0.147194</td>\n",
       "      <td>0.010630</td>\n",
       "      <td>0.380431</td>\n",
       "      <td>2.584554</td>\n",
       "    </tr>\n",
       "    <tr>\n",
       "      <th>5</th>\n",
       "      <td>Cucumber Kirby</td>\n",
       "      <td>Banana</td>\n",
       "      <td>0.030218</td>\n",
       "      <td>0.147194</td>\n",
       "      <td>0.010024</td>\n",
       "      <td>0.331723</td>\n",
       "      <td>2.253644</td>\n",
       "    </tr>\n",
       "    <tr>\n",
       "      <th>3</th>\n",
       "      <td>Organic Avocado</td>\n",
       "      <td>Banana</td>\n",
       "      <td>0.054564</td>\n",
       "      <td>0.147194</td>\n",
       "      <td>0.016328</td>\n",
       "      <td>0.299245</td>\n",
       "      <td>2.032997</td>\n",
       "    </tr>\n",
       "    <tr>\n",
       "      <th>0</th>\n",
       "      <td>Organic Raspberries</td>\n",
       "      <td>Bag of Organic Bananas</td>\n",
       "      <td>0.042334</td>\n",
       "      <td>0.117802</td>\n",
       "      <td>0.012428</td>\n",
       "      <td>0.293570</td>\n",
       "      <td>2.492064</td>\n",
       "    </tr>\n",
       "    <tr>\n",
       "      <th>1</th>\n",
       "      <td>Organic Hass Avocado</td>\n",
       "      <td>Bag of Organic Bananas</td>\n",
       "      <td>0.066218</td>\n",
       "      <td>0.117802</td>\n",
       "      <td>0.019260</td>\n",
       "      <td>0.290857</td>\n",
       "      <td>2.469037</td>\n",
       "    </tr>\n",
       "    <tr>\n",
       "      <th>8</th>\n",
       "      <td>Strawberries</td>\n",
       "      <td>Banana</td>\n",
       "      <td>0.044496</td>\n",
       "      <td>0.147194</td>\n",
       "      <td>0.012902</td>\n",
       "      <td>0.289959</td>\n",
       "      <td>1.969908</td>\n",
       "    </tr>\n",
       "    <tr>\n",
       "      <th>6</th>\n",
       "      <td>Large Lemon</td>\n",
       "      <td>Banana</td>\n",
       "      <td>0.047718</td>\n",
       "      <td>0.147194</td>\n",
       "      <td>0.012692</td>\n",
       "      <td>0.265979</td>\n",
       "      <td>1.806998</td>\n",
       "    </tr>\n",
       "    <tr>\n",
       "      <th>11</th>\n",
       "      <td>Organic Raspberries</td>\n",
       "      <td>Organic Strawberries</td>\n",
       "      <td>0.042334</td>\n",
       "      <td>0.082550</td>\n",
       "      <td>0.010524</td>\n",
       "      <td>0.248595</td>\n",
       "      <td>3.011442</td>\n",
       "    </tr>\n",
       "    <tr>\n",
       "      <th>10</th>\n",
       "      <td>Organic Strawberries</td>\n",
       "      <td>Bag of Organic Bananas</td>\n",
       "      <td>0.082550</td>\n",
       "      <td>0.117802</td>\n",
       "      <td>0.019122</td>\n",
       "      <td>0.231641</td>\n",
       "      <td>1.966362</td>\n",
       "    </tr>\n",
       "    <tr>\n",
       "      <th>4</th>\n",
       "      <td>Organic Baby Spinach</td>\n",
       "      <td>Banana</td>\n",
       "      <td>0.075000</td>\n",
       "      <td>0.147194</td>\n",
       "      <td>0.016016</td>\n",
       "      <td>0.213547</td>\n",
       "      <td>1.450784</td>\n",
       "    </tr>\n",
       "    <tr>\n",
       "      <th>2</th>\n",
       "      <td>Organic Strawberries</td>\n",
       "      <td>Banana</td>\n",
       "      <td>0.082550</td>\n",
       "      <td>0.147194</td>\n",
       "      <td>0.017596</td>\n",
       "      <td>0.213156</td>\n",
       "      <td>1.448127</td>\n",
       "    </tr>\n",
       "    <tr>\n",
       "      <th>9</th>\n",
       "      <td>Organic Baby Spinach</td>\n",
       "      <td>Bag of Organic Bananas</td>\n",
       "      <td>0.075000</td>\n",
       "      <td>0.117802</td>\n",
       "      <td>0.015500</td>\n",
       "      <td>0.206667</td>\n",
       "      <td>1.754356</td>\n",
       "    </tr>\n",
       "  </tbody>\n",
       "</table>\n",
       "</div>"
      ],
      "text/plain": [
       "               Product_A               Product_B  Support_A  Support_B  \\\n",
       "7     Organic Fuji Apple                  Banana   0.027942   0.147194   \n",
       "5         Cucumber Kirby                  Banana   0.030218   0.147194   \n",
       "3        Organic Avocado                  Banana   0.054564   0.147194   \n",
       "0    Organic Raspberries  Bag of Organic Bananas   0.042334   0.117802   \n",
       "1   Organic Hass Avocado  Bag of Organic Bananas   0.066218   0.117802   \n",
       "8           Strawberries                  Banana   0.044496   0.147194   \n",
       "6            Large Lemon                  Banana   0.047718   0.147194   \n",
       "11   Organic Raspberries    Organic Strawberries   0.042334   0.082550   \n",
       "10  Organic Strawberries  Bag of Organic Bananas   0.082550   0.117802   \n",
       "4   Organic Baby Spinach                  Banana   0.075000   0.147194   \n",
       "2   Organic Strawberries                  Banana   0.082550   0.147194   \n",
       "9   Organic Baby Spinach  Bag of Organic Bananas   0.075000   0.117802   \n",
       "\n",
       "    Support_AB  Confidence_AB   Lift_AB  \n",
       "7     0.010630       0.380431  2.584554  \n",
       "5     0.010024       0.331723  2.253644  \n",
       "3     0.016328       0.299245  2.032997  \n",
       "0     0.012428       0.293570  2.492064  \n",
       "1     0.019260       0.290857  2.469037  \n",
       "8     0.012902       0.289959  1.969908  \n",
       "6     0.012692       0.265979  1.806998  \n",
       "11    0.010524       0.248595  3.011442  \n",
       "10    0.019122       0.231641  1.966362  \n",
       "4     0.016016       0.213547  1.450784  \n",
       "2     0.017596       0.213156  1.448127  \n",
       "9     0.015500       0.206667  1.754356  "
      ]
     },
     "execution_count": 75,
     "metadata": {},
     "output_type": "execute_result"
    }
   ],
   "source": [
    "df_rules_ap.sort_values(by = 'Confidence_AB', ascending = False)"
   ]
  },
  {
   "cell_type": "code",
   "execution_count": 76,
   "id": "97fdd1bf",
   "metadata": {},
   "outputs": [
    {
     "data": {
      "text/html": [
       "<div>\n",
       "<style scoped>\n",
       "    .dataframe tbody tr th:only-of-type {\n",
       "        vertical-align: middle;\n",
       "    }\n",
       "\n",
       "    .dataframe tbody tr th {\n",
       "        vertical-align: top;\n",
       "    }\n",
       "\n",
       "    .dataframe thead th {\n",
       "        text-align: right;\n",
       "    }\n",
       "</style>\n",
       "<table border=\"1\" class=\"dataframe\">\n",
       "  <thead>\n",
       "    <tr style=\"text-align: right;\">\n",
       "      <th></th>\n",
       "      <th>Product_A</th>\n",
       "      <th>Product_B</th>\n",
       "      <th>Support_A</th>\n",
       "      <th>Support_B</th>\n",
       "      <th>Support_AB</th>\n",
       "      <th>Confidence_AB</th>\n",
       "      <th>Lift_AB</th>\n",
       "    </tr>\n",
       "  </thead>\n",
       "  <tbody>\n",
       "    <tr>\n",
       "      <th>11</th>\n",
       "      <td>Organic Raspberries</td>\n",
       "      <td>Organic Strawberries</td>\n",
       "      <td>0.042334</td>\n",
       "      <td>0.082550</td>\n",
       "      <td>0.010524</td>\n",
       "      <td>0.248595</td>\n",
       "      <td>3.011442</td>\n",
       "    </tr>\n",
       "    <tr>\n",
       "      <th>7</th>\n",
       "      <td>Organic Fuji Apple</td>\n",
       "      <td>Banana</td>\n",
       "      <td>0.027942</td>\n",
       "      <td>0.147194</td>\n",
       "      <td>0.010630</td>\n",
       "      <td>0.380431</td>\n",
       "      <td>2.584554</td>\n",
       "    </tr>\n",
       "    <tr>\n",
       "      <th>0</th>\n",
       "      <td>Organic Raspberries</td>\n",
       "      <td>Bag of Organic Bananas</td>\n",
       "      <td>0.042334</td>\n",
       "      <td>0.117802</td>\n",
       "      <td>0.012428</td>\n",
       "      <td>0.293570</td>\n",
       "      <td>2.492064</td>\n",
       "    </tr>\n",
       "    <tr>\n",
       "      <th>1</th>\n",
       "      <td>Organic Hass Avocado</td>\n",
       "      <td>Bag of Organic Bananas</td>\n",
       "      <td>0.066218</td>\n",
       "      <td>0.117802</td>\n",
       "      <td>0.019260</td>\n",
       "      <td>0.290857</td>\n",
       "      <td>2.469037</td>\n",
       "    </tr>\n",
       "    <tr>\n",
       "      <th>5</th>\n",
       "      <td>Cucumber Kirby</td>\n",
       "      <td>Banana</td>\n",
       "      <td>0.030218</td>\n",
       "      <td>0.147194</td>\n",
       "      <td>0.010024</td>\n",
       "      <td>0.331723</td>\n",
       "      <td>2.253644</td>\n",
       "    </tr>\n",
       "    <tr>\n",
       "      <th>3</th>\n",
       "      <td>Organic Avocado</td>\n",
       "      <td>Banana</td>\n",
       "      <td>0.054564</td>\n",
       "      <td>0.147194</td>\n",
       "      <td>0.016328</td>\n",
       "      <td>0.299245</td>\n",
       "      <td>2.032997</td>\n",
       "    </tr>\n",
       "    <tr>\n",
       "      <th>8</th>\n",
       "      <td>Strawberries</td>\n",
       "      <td>Banana</td>\n",
       "      <td>0.044496</td>\n",
       "      <td>0.147194</td>\n",
       "      <td>0.012902</td>\n",
       "      <td>0.289959</td>\n",
       "      <td>1.969908</td>\n",
       "    </tr>\n",
       "    <tr>\n",
       "      <th>10</th>\n",
       "      <td>Organic Strawberries</td>\n",
       "      <td>Bag of Organic Bananas</td>\n",
       "      <td>0.082550</td>\n",
       "      <td>0.117802</td>\n",
       "      <td>0.019122</td>\n",
       "      <td>0.231641</td>\n",
       "      <td>1.966362</td>\n",
       "    </tr>\n",
       "    <tr>\n",
       "      <th>6</th>\n",
       "      <td>Large Lemon</td>\n",
       "      <td>Banana</td>\n",
       "      <td>0.047718</td>\n",
       "      <td>0.147194</td>\n",
       "      <td>0.012692</td>\n",
       "      <td>0.265979</td>\n",
       "      <td>1.806998</td>\n",
       "    </tr>\n",
       "    <tr>\n",
       "      <th>9</th>\n",
       "      <td>Organic Baby Spinach</td>\n",
       "      <td>Bag of Organic Bananas</td>\n",
       "      <td>0.075000</td>\n",
       "      <td>0.117802</td>\n",
       "      <td>0.015500</td>\n",
       "      <td>0.206667</td>\n",
       "      <td>1.754356</td>\n",
       "    </tr>\n",
       "    <tr>\n",
       "      <th>4</th>\n",
       "      <td>Organic Baby Spinach</td>\n",
       "      <td>Banana</td>\n",
       "      <td>0.075000</td>\n",
       "      <td>0.147194</td>\n",
       "      <td>0.016016</td>\n",
       "      <td>0.213547</td>\n",
       "      <td>1.450784</td>\n",
       "    </tr>\n",
       "    <tr>\n",
       "      <th>2</th>\n",
       "      <td>Organic Strawberries</td>\n",
       "      <td>Banana</td>\n",
       "      <td>0.082550</td>\n",
       "      <td>0.147194</td>\n",
       "      <td>0.017596</td>\n",
       "      <td>0.213156</td>\n",
       "      <td>1.448127</td>\n",
       "    </tr>\n",
       "  </tbody>\n",
       "</table>\n",
       "</div>"
      ],
      "text/plain": [
       "               Product_A               Product_B  Support_A  Support_B  \\\n",
       "11   Organic Raspberries    Organic Strawberries   0.042334   0.082550   \n",
       "7     Organic Fuji Apple                  Banana   0.027942   0.147194   \n",
       "0    Organic Raspberries  Bag of Organic Bananas   0.042334   0.117802   \n",
       "1   Organic Hass Avocado  Bag of Organic Bananas   0.066218   0.117802   \n",
       "5         Cucumber Kirby                  Banana   0.030218   0.147194   \n",
       "3        Organic Avocado                  Banana   0.054564   0.147194   \n",
       "8           Strawberries                  Banana   0.044496   0.147194   \n",
       "10  Organic Strawberries  Bag of Organic Bananas   0.082550   0.117802   \n",
       "6            Large Lemon                  Banana   0.047718   0.147194   \n",
       "9   Organic Baby Spinach  Bag of Organic Bananas   0.075000   0.117802   \n",
       "4   Organic Baby Spinach                  Banana   0.075000   0.147194   \n",
       "2   Organic Strawberries                  Banana   0.082550   0.147194   \n",
       "\n",
       "    Support_AB  Confidence_AB   Lift_AB  \n",
       "11    0.010524       0.248595  3.011442  \n",
       "7     0.010630       0.380431  2.584554  \n",
       "0     0.012428       0.293570  2.492064  \n",
       "1     0.019260       0.290857  2.469037  \n",
       "5     0.010024       0.331723  2.253644  \n",
       "3     0.016328       0.299245  2.032997  \n",
       "8     0.012902       0.289959  1.969908  \n",
       "10    0.019122       0.231641  1.966362  \n",
       "6     0.012692       0.265979  1.806998  \n",
       "9     0.015500       0.206667  1.754356  \n",
       "4     0.016016       0.213547  1.450784  \n",
       "2     0.017596       0.213156  1.448127  "
      ]
     },
     "execution_count": 76,
     "metadata": {},
     "output_type": "execute_result"
    }
   ],
   "source": [
    "df_rules_ap.sort_values(by = 'Lift_AB', ascending = False)"
   ]
  },
  {
   "cell_type": "code",
   "execution_count": 77,
   "id": "11b80cd1",
   "metadata": {},
   "outputs": [
    {
     "data": {
      "text/html": [
       "<div>\n",
       "<style scoped>\n",
       "    .dataframe tbody tr th:only-of-type {\n",
       "        vertical-align: middle;\n",
       "    }\n",
       "\n",
       "    .dataframe tbody tr th {\n",
       "        vertical-align: top;\n",
       "    }\n",
       "\n",
       "    .dataframe thead th {\n",
       "        text-align: right;\n",
       "    }\n",
       "</style>\n",
       "<table border=\"1\" class=\"dataframe\">\n",
       "  <thead>\n",
       "    <tr style=\"text-align: right;\">\n",
       "      <th></th>\n",
       "      <th>Product_A</th>\n",
       "      <th>Product_B</th>\n",
       "      <th>Support_A</th>\n",
       "      <th>Support_B</th>\n",
       "      <th>Support_AB</th>\n",
       "      <th>Confidence_AB</th>\n",
       "      <th>Lift_AB</th>\n",
       "    </tr>\n",
       "  </thead>\n",
       "  <tbody>\n",
       "    <tr>\n",
       "      <th>1</th>\n",
       "      <td>Organic Hass Avocado</td>\n",
       "      <td>Bag of Organic Bananas</td>\n",
       "      <td>0.066218</td>\n",
       "      <td>0.117802</td>\n",
       "      <td>0.019260</td>\n",
       "      <td>0.290857</td>\n",
       "      <td>2.469037</td>\n",
       "    </tr>\n",
       "    <tr>\n",
       "      <th>10</th>\n",
       "      <td>Organic Strawberries</td>\n",
       "      <td>Bag of Organic Bananas</td>\n",
       "      <td>0.082550</td>\n",
       "      <td>0.117802</td>\n",
       "      <td>0.019122</td>\n",
       "      <td>0.231641</td>\n",
       "      <td>1.966362</td>\n",
       "    </tr>\n",
       "    <tr>\n",
       "      <th>2</th>\n",
       "      <td>Organic Strawberries</td>\n",
       "      <td>Banana</td>\n",
       "      <td>0.082550</td>\n",
       "      <td>0.147194</td>\n",
       "      <td>0.017596</td>\n",
       "      <td>0.213156</td>\n",
       "      <td>1.448127</td>\n",
       "    </tr>\n",
       "    <tr>\n",
       "      <th>3</th>\n",
       "      <td>Organic Avocado</td>\n",
       "      <td>Banana</td>\n",
       "      <td>0.054564</td>\n",
       "      <td>0.147194</td>\n",
       "      <td>0.016328</td>\n",
       "      <td>0.299245</td>\n",
       "      <td>2.032997</td>\n",
       "    </tr>\n",
       "    <tr>\n",
       "      <th>4</th>\n",
       "      <td>Organic Baby Spinach</td>\n",
       "      <td>Banana</td>\n",
       "      <td>0.075000</td>\n",
       "      <td>0.147194</td>\n",
       "      <td>0.016016</td>\n",
       "      <td>0.213547</td>\n",
       "      <td>1.450784</td>\n",
       "    </tr>\n",
       "    <tr>\n",
       "      <th>9</th>\n",
       "      <td>Organic Baby Spinach</td>\n",
       "      <td>Bag of Organic Bananas</td>\n",
       "      <td>0.075000</td>\n",
       "      <td>0.117802</td>\n",
       "      <td>0.015500</td>\n",
       "      <td>0.206667</td>\n",
       "      <td>1.754356</td>\n",
       "    </tr>\n",
       "    <tr>\n",
       "      <th>8</th>\n",
       "      <td>Strawberries</td>\n",
       "      <td>Banana</td>\n",
       "      <td>0.044496</td>\n",
       "      <td>0.147194</td>\n",
       "      <td>0.012902</td>\n",
       "      <td>0.289959</td>\n",
       "      <td>1.969908</td>\n",
       "    </tr>\n",
       "    <tr>\n",
       "      <th>6</th>\n",
       "      <td>Large Lemon</td>\n",
       "      <td>Banana</td>\n",
       "      <td>0.047718</td>\n",
       "      <td>0.147194</td>\n",
       "      <td>0.012692</td>\n",
       "      <td>0.265979</td>\n",
       "      <td>1.806998</td>\n",
       "    </tr>\n",
       "    <tr>\n",
       "      <th>0</th>\n",
       "      <td>Organic Raspberries</td>\n",
       "      <td>Bag of Organic Bananas</td>\n",
       "      <td>0.042334</td>\n",
       "      <td>0.117802</td>\n",
       "      <td>0.012428</td>\n",
       "      <td>0.293570</td>\n",
       "      <td>2.492064</td>\n",
       "    </tr>\n",
       "    <tr>\n",
       "      <th>7</th>\n",
       "      <td>Organic Fuji Apple</td>\n",
       "      <td>Banana</td>\n",
       "      <td>0.027942</td>\n",
       "      <td>0.147194</td>\n",
       "      <td>0.010630</td>\n",
       "      <td>0.380431</td>\n",
       "      <td>2.584554</td>\n",
       "    </tr>\n",
       "    <tr>\n",
       "      <th>11</th>\n",
       "      <td>Organic Raspberries</td>\n",
       "      <td>Organic Strawberries</td>\n",
       "      <td>0.042334</td>\n",
       "      <td>0.082550</td>\n",
       "      <td>0.010524</td>\n",
       "      <td>0.248595</td>\n",
       "      <td>3.011442</td>\n",
       "    </tr>\n",
       "    <tr>\n",
       "      <th>5</th>\n",
       "      <td>Cucumber Kirby</td>\n",
       "      <td>Banana</td>\n",
       "      <td>0.030218</td>\n",
       "      <td>0.147194</td>\n",
       "      <td>0.010024</td>\n",
       "      <td>0.331723</td>\n",
       "      <td>2.253644</td>\n",
       "    </tr>\n",
       "  </tbody>\n",
       "</table>\n",
       "</div>"
      ],
      "text/plain": [
       "               Product_A               Product_B  Support_A  Support_B  \\\n",
       "1   Organic Hass Avocado  Bag of Organic Bananas   0.066218   0.117802   \n",
       "10  Organic Strawberries  Bag of Organic Bananas   0.082550   0.117802   \n",
       "2   Organic Strawberries                  Banana   0.082550   0.147194   \n",
       "3        Organic Avocado                  Banana   0.054564   0.147194   \n",
       "4   Organic Baby Spinach                  Banana   0.075000   0.147194   \n",
       "9   Organic Baby Spinach  Bag of Organic Bananas   0.075000   0.117802   \n",
       "8           Strawberries                  Banana   0.044496   0.147194   \n",
       "6            Large Lemon                  Banana   0.047718   0.147194   \n",
       "0    Organic Raspberries  Bag of Organic Bananas   0.042334   0.117802   \n",
       "7     Organic Fuji Apple                  Banana   0.027942   0.147194   \n",
       "11   Organic Raspberries    Organic Strawberries   0.042334   0.082550   \n",
       "5         Cucumber Kirby                  Banana   0.030218   0.147194   \n",
       "\n",
       "    Support_AB  Confidence_AB   Lift_AB  \n",
       "1     0.019260       0.290857  2.469037  \n",
       "10    0.019122       0.231641  1.966362  \n",
       "2     0.017596       0.213156  1.448127  \n",
       "3     0.016328       0.299245  2.032997  \n",
       "4     0.016016       0.213547  1.450784  \n",
       "9     0.015500       0.206667  1.754356  \n",
       "8     0.012902       0.289959  1.969908  \n",
       "6     0.012692       0.265979  1.806998  \n",
       "0     0.012428       0.293570  2.492064  \n",
       "7     0.010630       0.380431  2.584554  \n",
       "11    0.010524       0.248595  3.011442  \n",
       "5     0.010024       0.331723  2.253644  "
      ]
     },
     "execution_count": 77,
     "metadata": {},
     "output_type": "execute_result"
    }
   ],
   "source": [
    "df_rules_ap.sort_values(by = 'Support_AB', ascending = False)"
   ]
  },
  {
   "cell_type": "markdown",
   "id": "109f305a",
   "metadata": {},
   "source": [
    "### Conclusão\n",
    "Aplicando Matemática e Estatística via programação executamos uma análise de MBA gerando como resultado as regras de associação entre os produtos com diferentes métricas. Podemos agora levar nossas conclusões aos tomadores de decisão e partir para o próximo projeto."
   ]
  }
 ],
 "metadata": {
  "kernelspec": {
   "display_name": "Python 3 (ipykernel)",
   "language": "python",
   "name": "python3"
  },
  "language_info": {
   "codemirror_mode": {
    "name": "ipython",
    "version": 3
   },
   "file_extension": ".py",
   "mimetype": "text/x-python",
   "name": "python",
   "nbconvert_exporter": "python",
   "pygments_lexer": "ipython3",
   "version": "3.9.12"
  }
 },
 "nbformat": 4,
 "nbformat_minor": 5
}
